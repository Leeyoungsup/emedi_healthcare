{
 "cells": [
  {
   "cell_type": "code",
   "execution_count": 267,
   "metadata": {},
   "outputs": [],
   "source": [
    "import numpy as np\n",
    "import scipy\n",
    "import pandas as pd\n",
    "from glob import glob\n",
    "from PIL import Image\n",
    "import matplotlib.pyplot as plt\n",
    "from scipy import signal\n",
    "import cv2"
   ]
  },
  {
   "cell_type": "code",
   "execution_count": 268,
   "metadata": {},
   "outputs": [],
   "source": [
    "csv_file_list=glob('../../data/AF/csv/*.csv')\n",
    "waveform_path='../../data/AF/Waveform/'\n",
    "spectrogram_path='../../data/AF/Spectrogram/'"
   ]
  },
  {
   "cell_type": "code",
   "execution_count": 269,
   "metadata": {},
   "outputs": [],
   "source": [
    "positive_count=0\n",
    "negative_count=0\n",
    "pulse=1000\n",
    "for i in range(len(csv_file_list)):\n",
    "    csv_data=pd.read_csv(csv_file_list[i])\n",
    "    count=len(csv_data)\n",
    "\n",
    "\n",
    "    for j in range(count//(pulse-200)):\n",
    "        sec_data=csv_data[j*(pulse-200):j*(pulse-200)+pulse]\n",
    "        PPG=sec_data['PPG'].to_numpy()\n",
    "        PPG_mean=sec_data['PPG'].to_numpy().mean()\n",
    "        Type_1=sec_data['Type_1'].to_numpy()\n",
    "        Type_2=sec_data['Type_2'].to_numpy()\n",
    "        Type_3=sec_data['Type_3'].to_numpy()\n",
    "        Type_4=sec_data['Type_4'].to_numpy()\n",
    "\n",
    "        if PPG_mean>=1/2:\n",
    "            PPG_class='positive'\n",
    "            data = {'PPG Class':PPG,'PPG' : Type_1}\n",
    "            data_1=pd.DataFrame(data)\n",
    "            data_1.to_csv(waveform_path+'Type_1/'+PPG_class+'/'+str(positive_count)+'.csv',mode = 'w', index=False)\n",
    "            data = {'PPG Class':PPG,'PPG' : Type_2}\n",
    "            data_2=pd.DataFrame(data)\n",
    "            data_2.to_csv(waveform_path+'Type_2/'+PPG_class+'/'+str(positive_count)+'.csv',mode = 'w', index=False)\n",
    "            data = {'PPG Class':PPG,'PPG' : Type_3}\n",
    "            data_3=pd.DataFrame(data)\n",
    "            data_3.to_csv(waveform_path+'Type_3/'+PPG_class+'/'+str(positive_count)+'.csv',mode = 'w', index=False)\n",
    "            data = {'PPG Class':PPG,'PPG' : Type_4}\n",
    "            data_4=pd.DataFrame(data)\n",
    "            data_4.to_csv(waveform_path+'Type_4/'+PPG_class+'/'+str(positive_count)+'.csv',mode = 'w', index=False)\n",
    "            data_1.to_csv(waveform_path+'Type_All/'+PPG_class+'/'+str(positive_count)+'_1'+'.csv',mode = 'w', index=False)\n",
    "            data_2.to_csv(waveform_path+'Type_All/'+PPG_class+'/'+str(positive_count)+'_2'+'.csv',mode = 'w', index=False)\n",
    "            data_3.to_csv(waveform_path+'Type_All/'+PPG_class+'/'+str(positive_count)+'_3'+'.csv',mode = 'w', index=False)\n",
    "            data_4.to_csv(waveform_path+'Type_All/'+PPG_class+'/'+str(positive_count)+'_4'+'.csv',mode = 'w', index=False)\n",
    "            f, t, Zxx_1 = signal.stft(Type_1, 100, nperseg=30)\n",
    "            np.save(spectrogram_path+'Type_1/'+PPG_class+'/'+str(positive_count)+'.npy',Zxx_1)\n",
    "            f, t, Zxx_2 = signal.stft(Type_2, 100, nperseg=30)\n",
    "            np.save(spectrogram_path+'Type_2/'+PPG_class+'/'+str(positive_count)+'.npy',Zxx_2)\n",
    "            f, t, Zxx_3 = signal.stft(Type_3, 100, nperseg=30)\n",
    "            np.save(spectrogram_path+'Type_3/'+PPG_class+'/'+str(positive_count)+'.npy',Zxx_3)\n",
    "            f, t, Zxx_4 = signal.stft(Type_4, 100, nperseg=30)\n",
    "            np.save(spectrogram_path+'Type_4/'+PPG_class+'/'+str(positive_count)+'.npy',Zxx_4)\n",
    "            np.save(spectrogram_path+'Type_All/'+PPG_class+'/'+str(positive_count)+'_1'+'.npy',Zxx_1)\n",
    "            np.save(spectrogram_path+'Type_All/'+PPG_class+'/'+str(positive_count)+'_2'+'.npy',Zxx_2)\n",
    "            np.save(spectrogram_path+'Type_All/'+PPG_class+'/'+str(positive_count)+'_3'+'.npy',Zxx_3)\n",
    "            np.save(spectrogram_path+'Type_All/'+PPG_class+'/'+str(positive_count)+'_4'+'.npy',Zxx_4)\n",
    "            positive_count+=1\n",
    "        elif PPG_mean==0:\n",
    "            PPG_class='negative'\n",
    "            data = {'PPG Class':PPG,'PPG' : Type_1}\n",
    "            data_1=pd.DataFrame(data)\n",
    "            data_1.to_csv(waveform_path+'Type_1/'+PPG_class+'/'+str(negative_count)+'.csv',mode = 'w', index=False)\n",
    "            data = {'PPG Class':PPG,'PPG' : Type_2}\n",
    "            data_2=pd.DataFrame(data)\n",
    "            data_2.to_csv(waveform_path+'Type_2/'+PPG_class+'/'+str(negative_count)+'.csv',mode = 'w', index=False)\n",
    "            data = {'PPG Class':PPG,'PPG' : Type_3}\n",
    "            data_3=pd.DataFrame(data)\n",
    "            data_3.to_csv(waveform_path+'Type_3/'+PPG_class+'/'+str(negative_count)+'.csv',mode = 'w', index=False)\n",
    "            data = {'PPG Class':PPG,'PPG' : Type_4}\n",
    "            data_4=pd.DataFrame(data)\n",
    "            data_4.to_csv(waveform_path+'Type_4/'+PPG_class+'/'+str(negative_count)+'.csv',mode = 'w', index=False)\n",
    "            data_1.to_csv(waveform_path+'Type_All/'+PPG_class+'/'+str(negative_count)+'_1'+'.csv',mode = 'w', index=False)\n",
    "            data_2.to_csv(waveform_path+'Type_All/'+PPG_class+'/'+str(negative_count)+'_2'+'.csv',mode = 'w', index=False)\n",
    "            data_3.to_csv(waveform_path+'Type_All/'+PPG_class+'/'+str(negative_count)+'_3'+'.csv',mode = 'w', index=False)\n",
    "            data_4.to_csv(waveform_path+'Type_All/'+PPG_class+'/'+str(negative_count)+'_4'+'.csv',mode = 'w', index=False)\n",
    "            f, t, Zxx_1 = signal.stft(Type_1, 100, nperseg=30)\n",
    "            np.save(spectrogram_path+'Type_1/'+PPG_class+'/'+str(negative_count)+'.npy',Zxx_1)\n",
    "            f, t, Zxx_2 = signal.stft(Type_2, 100, nperseg=30)\n",
    "            np.save(spectrogram_path+'Type_2/'+PPG_class+'/'+str(negative_count)+'.npy',Zxx_2)\n",
    "            f, t, Zxx_3 = signal.stft(Type_3, 100, nperseg=30)\n",
    "            np.save(spectrogram_path+'Type_3/'+PPG_class+'/'+str(negative_count)+'.npy',Zxx_3)\n",
    "            f, t, Zxx_4 = signal.stft(Type_4, 100, nperseg=30)\n",
    "            np.save(spectrogram_path+'Type_4/'+PPG_class+'/'+str(negative_count)+'.npy',Zxx_4)\n",
    "            np.save(spectrogram_path+'Type_All/'+PPG_class+'/'+str(negative_count)+'_1'+'.npy',Zxx_1)\n",
    "            np.save(spectrogram_path+'Type_All/'+PPG_class+'/'+str(negative_count)+'_2'+'.npy',Zxx_2)\n",
    "            np.save(spectrogram_path+'Type_All/'+PPG_class+'/'+str(negative_count)+'_3'+'.npy',Zxx_3)\n",
    "            np.save(spectrogram_path+'Type_All/'+PPG_class+'/'+str(negative_count)+'_4'+'.npy',Zxx_4)\n",
    "            negative_count+=1"
   ]
  },
  {
   "cell_type": "code",
   "execution_count": 239,
   "metadata": {},
   "outputs": [
    {
     "data": {
      "image/png": "[encoded data removed]",
      "text/plain": [
       "<Figure size 1200x500 with 1 Axes>"
      ]
     },
     "metadata": {},
     "output_type": "display_data"
    }
   ],
   "source": [
    "def draw_stft(f, t, Zxx):\n",
    "    plt.figure(figsize=(12,5))\n",
    "    plt.pcolormesh(t, f, np.abs(Zxx), vmin=0, vmax=1)\n",
    "    plt.title('STFT Magnitude'); plt.ylabel('Frequency [Hz]')\n",
    "    plt.xlabel('Time [sec]'); plt.ylim([0, 50]); plt.show()\n",
    "from scipy import signal\n",
    "\n",
    "def calc_stft(x,Fs,nperseg):\n",
    "    f, t, Zxx = signal.stft(x, Fs, nperseg=nperseg)\n",
    "    draw_stft(f, t, Zxx)\n",
    "    return f, t, Zxx\n",
    "    \n",
    "f, t, Zxx=calc_stft(Type_1[:1000],100,30)"
   ]
  }
 ],
 "metadata": {
  "kernelspec": {
   "display_name": "LeeYS",
   "language": "python",
   "name": "python3"
  },
  "language_info": {
   "codemirror_mode": {
    "name": "ipython",
    "version": 3
   },
   "file_extension": ".py",
   "mimetype": "text/x-python",
   "name": "python",
   "nbconvert_exporter": "python",
   "pygments_lexer": "ipython3",
   "version": "3.9.0"
  },
  "orig_nbformat": 4
 },
 "nbformat": 4,
 "nbformat_minor": 2
}
