{
 "cells": [
  {
   "cell_type": "code",
   "execution_count": 56,
   "metadata": {},
   "outputs": [],
   "source": [
    "from tsai.all import *\n",
    "import os\n",
    "import torchvision.models as models\n",
    "import torch.nn as nn\n",
    "import pandas as pd\n",
    "from torchvision.io import read_image\n",
    "import torch\n",
    "from torch.utils.data import Dataset, DataLoader, random_split\n",
    "from torchvision import datasets\n",
    "from torchvision.transforms import ToTensor\n",
    "import matplotlib.pyplot as plt\n",
    "import torchvision\n",
    "from glob import glob\n",
    "from torchinfo import summary\n",
    "import numpy as np\n",
    "import torch.nn.functional as F\n",
    "import torchvision.transforms as T\n",
    "from tqdm.auto import tqdm\n",
    "import torchmetrics\n",
    "from sklearn.metrics import roc_curve\n",
    "from sklearn.metrics import classification_report\n",
    "from sklearn.metrics import confusion_matrix\n",
    "from sklearn.metrics import ConfusionMatrixDisplay\n",
    "from sklearn.metrics import roc_auc_score\n",
    "device0 = torch.device(\"cuda:7\" if torch.cuda.is_available() else \"cpu\")\n",
    "batch_size = 1\n",
    "\n",
    "def createDirectory(directory):\n",
    "    \"\"\"_summary_\n",
    "        create Directory\n",
    "    Args:\n",
    "        directory (string): file_path\n",
    "    \"\"\"    \n",
    "    try:\n",
    "        if not os.path.exists(directory):\n",
    "            os.makedirs(directory)\n",
    "    except OSError:\n",
    "        print(\"Error: Failed to create the directory.\")"
   ]
  },
  {
   "cell_type": "code",
   "execution_count": 33,
   "metadata": {},
   "outputs": [
    {
     "data": {
      "application/vnd.jupyter.widget-view+json": {
       "model_id": "872c48ee1eff4cca9607c8dda402a5f6",
       "version_major": 2,
       "version_minor": 0
      },
      "text/plain": [
       "  0%|          | 0/11580 [00:00<?, ?it/s]"
      ]
     },
     "metadata": {},
     "output_type": "display_data"
    }
   ],
   "source": [
    "#fit\n",
    "def resized(data,N):\n",
    "    M=data.size\n",
    "    res=np.empty(N,data.dtype)\n",
    "    carry=0\n",
    "    m=0\n",
    "    for n in range(N):\n",
    "        sum = carry\n",
    "        while m*N - n*M < M :\n",
    "            sum += data[m]\n",
    "            m += 1\n",
    "        carry = (m-(n+1)*M/N)*data[m-1]\n",
    "        sum -= carry\n",
    "        res[n] = sum*N/M\n",
    "    return res\n",
    "class CustomDataset(Dataset):\n",
    "    def __init__(self,path,data,label ,transform=None, target_transform=None):\n",
    "        self.PPG_data=data\n",
    "        self.PPG_label=label\n",
    "        self.PPG_path=path\n",
    "    def __len__(self):\n",
    "        return len(self.PPG_data)\n",
    "\n",
    "    def __getitem__(self, idx):\n",
    "        signal_path=self.PPG_path[idx]\n",
    "        signal_tensor=self.PPG_data[idx]\n",
    "        AF_signal_label=self.PPG_label[idx]\n",
    "        return signal_path,signal_tensor,AF_signal_label\n",
    "    \n",
    "\n",
    "test_csv_path ='../../data/MixArtifacts/b30sec/test/'\n",
    "test_df=pd.read_csv('../../data/MixArtifacts/b30sec/test.csv',encoding='cp949')\n",
    "\n",
    "test_data=torch.empty(len(test_df),1,3000)\n",
    "test_label=torch.empty(len(test_data),1)\n",
    "file_list=[]\n",
    "for i in tqdm(range(len(test_df))):\n",
    "    file_name=test_df.loc[i]['FileName']\n",
    "    file_list.append(file_name)\n",
    "    AF_signal_label=test_df.loc[i]['AF']\n",
    "    signal_csv=pd.read_csv(test_csv_path+file_name)['PPG'].to_numpy()\n",
    "    test_data[i]=torch.tensor(signal_csv)\n",
    "    test_label[i]=torch.tensor([AF_signal_label])\n",
    "\n",
    "\n",
    "test_dataset=CustomDataset(file_list,test_data,test_label)\n",
    "test_dataloader = DataLoader(test_dataset, batch_size=batch_size, shuffle=False, drop_last=True)"
   ]
  },
  {
   "cell_type": "code",
   "execution_count": 61,
   "metadata": {},
   "outputs": [
    {
     "data": {
      "application/vnd.jupyter.widget-view+json": {
       "model_id": "96a563a4920c47b78be414d2bad3ecc2",
       "version_major": 2,
       "version_minor": 0
      },
      "text/plain": [
       "  0%|          | 0/11580 [00:00<?, ?it/s]"
      ]
     },
     "metadata": {},
     "output_type": "display_data"
    },
    {
     "name": "stdout",
     "output_type": "stream",
     "text": [
      "accuracy: 0.4469\n"
     ]
    },
    {
     "data": {
      "application/vnd.jupyter.widget-view+json": {
       "model_id": "ea44287610674f25a0ebb576d4177645",
       "version_major": 2,
       "version_minor": 0
      },
      "text/plain": [
       "  0%|          | 0/11580 [00:00<?, ?it/s]"
      ]
     },
     "metadata": {},
     "output_type": "display_data"
    },
    {
     "name": "stdout",
     "output_type": "stream",
     "text": [
      "accuracy: 0.4469\n"
     ]
    },
    {
     "data": {
      "application/vnd.jupyter.widget-view+json": {
       "model_id": "77e0e6f77251409a92e3105a0928b3ab",
       "version_major": 2,
       "version_minor": 0
      },
      "text/plain": [
       "  0%|          | 0/11580 [00:00<?, ?it/s]"
      ]
     },
     "metadata": {},
     "output_type": "display_data"
    },
    {
     "name": "stdout",
     "output_type": "stream",
     "text": [
      "accuracy: 0.9411\n"
     ]
    },
    {
     "data": {
      "application/vnd.jupyter.widget-view+json": {
       "model_id": "2c5578c9e1054f7d951d859188a96bcc",
       "version_major": 2,
       "version_minor": 0
      },
      "text/plain": [
       "  0%|          | 0/11580 [00:00<?, ?it/s]"
      ]
     },
     "metadata": {},
     "output_type": "display_data"
    },
    {
     "name": "stdout",
     "output_type": "stream",
     "text": [
      "accuracy: 0.8801\n"
     ]
    },
    {
     "data": {
      "application/vnd.jupyter.widget-view+json": {
       "model_id": "e11528073b0d45adb06d7d648432b63e",
       "version_major": 2,
       "version_minor": 0
      },
      "text/plain": [
       "  0%|          | 0/11580 [00:00<?, ?it/s]"
      ]
     },
     "metadata": {},
     "output_type": "display_data"
    },
    {
     "name": "stdout",
     "output_type": "stream",
     "text": [
      "accuracy: 0.9518\n"
     ]
    },
    {
     "data": {
      "application/vnd.jupyter.widget-view+json": {
       "model_id": "9e627d6b1de54bf599a23adca918d5ca",
       "version_major": 2,
       "version_minor": 0
      },
      "text/plain": [
       "  0%|          | 0/11580 [00:00<?, ?it/s]"
      ]
     },
     "metadata": {},
     "output_type": "display_data"
    },
    {
     "name": "stdout",
     "output_type": "stream",
     "text": [
      "accuracy: 0.9306\n"
     ]
    },
    {
     "data": {
      "application/vnd.jupyter.widget-view+json": {
       "model_id": "9337875cee2b4d7f99ab450f37cbfb41",
       "version_major": 2,
       "version_minor": 0
      },
      "text/plain": [
       "  0%|          | 0/11580 [00:00<?, ?it/s]"
      ]
     },
     "metadata": {},
     "output_type": "display_data"
    },
    {
     "name": "stdout",
     "output_type": "stream",
     "text": [
      "accuracy: 0.9065\n"
     ]
    },
    {
     "data": {
      "application/vnd.jupyter.widget-view+json": {
       "model_id": "44ef20166d074d988c0fd4f07bd564b8",
       "version_major": 2,
       "version_minor": 0
      },
      "text/plain": [
       "  0%|          | 0/11580 [00:00<?, ?it/s]"
      ]
     },
     "metadata": {},
     "output_type": "display_data"
    },
    {
     "name": "stdout",
     "output_type": "stream",
     "text": [
      "accuracy: 0.9015\n"
     ]
    }
   ],
   "source": [
    "def test(model,dataloader):\n",
    "    validation_tqdm=tqdm(dataloader)\n",
    "    accuracy = torchmetrics.Accuracy(task=\"binary\", num_classes=1).to(device0)\n",
    "    model.eval()\n",
    "    val_count=0\n",
    "    path_list=[]\n",
    "    y_list=[]\n",
    "    predict_list=[]\n",
    "    val_running_loss=0.0\n",
    "    val_acc_loss=0\n",
    "    criterion = nn.BCEWithLogitsLoss().to(device0)\n",
    "    with torch.no_grad():\n",
    "        for path,x, y in validation_tqdm:\n",
    "            \n",
    "            path_list.append(path)\n",
    "            y_list.append(y.item())\n",
    "            y = y.to(device0).float()\n",
    "            val_count+=1\n",
    "            x=x.to(device0).float()\n",
    "            \n",
    "            predict = model(x).to(device0)\n",
    "            predict_list.append(F.sigmoid(predict).item())\n",
    "            acc=accuracy(predict, y)\n",
    "            cost = criterion(predict, y)\n",
    "            val_running_loss+=cost.item()\n",
    "            val_acc_loss+=acc\n",
    "        print(f\"accuracy: {val_acc_loss/val_count:.4f}\")\n",
    "    return path_list,y_list,predict_list\n",
    "model = gMLP(1,1,3000).to(device0)\n",
    "model.load_state_dict(torch.load('../../model/architecture_waveform/PPG_gMLP_callback.pt'), strict=False)\n",
    "gMLP_path,gMLP_y,gMLP_pred=test(model,test_dataloader)\n",
    "model = XCM(1,1,3000).to(device0)\n",
    "model.load_state_dict(torch.load('../../model/architecture_waveform/PPG_XCM_callback.pt'), strict=False)\n",
    "XCM_path,XCM_y,XCM_pred=test(model,test_dataloader)\n",
    "model = ResCNN(1,1).to(device0)\n",
    "model.load_state_dict(torch.load('../../model/architecture_waveform/PPG_ResCNN_callback.pt'), strict=False)\n",
    "ResCNN_path,ResCNN_y,ResCNN_pred=test(model,test_dataloader)\n",
    "model =OmniScaleCNN(1,1,3000).to(device0)\n",
    "model.load_state_dict(torch.load('../../model/architecture_waveform/PPG_OmniScaleCNN_callback.pt'), strict=False)\n",
    "OmniScaleCNN_path,OmniScaleCNN_y,OmniScaleCNN_pred=test(model,test_dataloader)\n",
    "model = TCN(1,1).to(device0)\n",
    "model.load_state_dict(torch.load('../../model/architecture_waveform/PPG_TCN_callback.pt'), strict=False)\n",
    "TCN_path,TCN_y,TCN_pred=test(model,test_dataloader)\n",
    "model =XceptionTimePlus(1,1,3000).to(device0)\n",
    "model.load_state_dict(torch.load('../../model/architecture_waveform/PPG_XceptionTimePlus_callback.pt'), strict=False)\n",
    "XceptionTime_path,XceptionTime_y,XceptionTime_pred=test(model,test_dataloader)\n",
    "model = MLSTM_FCN(1,1,3000).to(device0)\n",
    "model.load_state_dict(torch.load('../../model/architecture_waveform/PPG_MLSTM_FCN_callback.pt'), strict=False)\n",
    "MLSTM_FCN_path,MLSTM_FCN_y,MLSTM_FCN_pred=test(model,test_dataloader)\n",
    "model =GRU_FCN(1,1,3000).to(device0)\n",
    "model.load_state_dict(torch.load('../../model/architecture_waveform/PPG_GRU_FCN_callback.pt'), strict=False)\n",
    "GRU_FCN_path,GRU_FCN_y,GRU_FCN_pred=test(model,test_dataloader)"
   ]
  },
  {
   "cell_type": "code",
   "execution_count": 83,
   "metadata": {},
   "outputs": [
    {
     "data": {
      "text/plain": [
       "(0.0, 1.0)"
      ]
     },
     "execution_count": 83,
     "metadata": {},
     "output_type": "execute_result"
    },
    {
     "data": {
      "image/png": "[encoded data removed]",
      "text/plain": [
       "<Figure size 1200x1000 with 1 Axes>"
      ]
     },
     "metadata": {},
     "output_type": "display_data"
    }
   ],
   "source": [
    "ResCNN_fper,ResCNN_tper, thresholds = roc_curve(ResCNN_y, ResCNN_pred)\n",
    "OmniScaleCNN_fper,OmniScaleCNN_tper, thresholds = roc_curve(ResCNN_y, OmniScaleCNN_pred)\n",
    "TCN_fper,TCN_tper, thresholds = roc_curve(ResCNN_y, TCN_pred)\n",
    "XceptionTime_fper,XceptionTime_tper, thresholds = roc_curve(ResCNN_y, XceptionTime_pred)\n",
    "MLSTM_FCN_fper,MLSTM_FCN_tper, thresholds = roc_curve(ResCNN_y, MLSTM_FCN_pred)\n",
    "GRU_FCN_fper,GRU_FCN_tper, thresholds = roc_curve(ResCNN_y, GRU_FCN_pred)\n",
    "ResCNN_auc_score=roc_auc_score(ResCNN_y, ResCNN_pred)\n",
    "OmniScaleCNN_auc_score=roc_auc_score(ResCNN_y, OmniScaleCNN_pred)\n",
    "TCN_auc_score=roc_auc_score(ResCNN_y, TCN_pred)\n",
    "XceptionTime_auc_score=roc_auc_score(ResCNN_y, XceptionTime_pred)\n",
    "MLSTM_FCN_auc_score=roc_auc_score(ResCNN_y, MLSTM_FCN_pred)\n",
    "GRU_FCN_auc_score=roc_auc_score(ResCNN_y, GRU_FCN_pred)\n",
    "plt.figure(figsize=(12,10))\n",
    "plt.plot(TCN_fper, TCN_tper,label='TCN(Auc='+str(round(TCN_auc_score, 3))+')',linestyle='--')\n",
    "plt.plot(XceptionTime_fper, XceptionTime_tper,label='XceptionTime(Auc='+str(round(XceptionTime_auc_score, 3))+')')\n",
    "plt.plot(OmniScaleCNN_fper, OmniScaleCNN_tper,label='OmniScaleCNN(Auc='+str(round(OmniScaleCNN_auc_score, 3))+')',linestyle='--')\n",
    "plt.plot(ResCNN_fper,ResCNN_tper,label='ResCNN(Auc='+str(round(ResCNN_auc_score, 3))+')')\n",
    "plt.plot(GRU_FCN_fper,GRU_FCN_tper,label='GRU_FCN(Auc='+str(round(GRU_FCN_auc_score, 3))+')',linestyle='--')\n",
    "plt.plot(MLSTM_FCN_fper,MLSTM_FCN_tper,label='MLSTM_FCN(Auc='+str(round(MLSTM_FCN_auc_score, 3))+')')\n",
    "plt.legend(loc='lower right',fontsize=15)\n",
    "plt.xlabel('False positive rate',size=15)\n",
    "plt.ylabel('True positive rate',size=15)\n",
    "plt.xlim([0, 1])      # X축의 범위: [xmin, xmax]\n",
    "plt.ylim([0, 1]) \n"
   ]
  },
  {
   "cell_type": "code",
   "execution_count": 82,
   "metadata": {},
   "outputs": [
    {
     "name": "stdout",
     "output_type": "stream",
     "text": [
      "model performance(95% CI)\n",
      "TCN: AUC=0.986(0.983-0.988), Sensitivity=0.955(0.95-0.96), Specificity=0.95(0.944-0.956), Accuracy=0.953(0.949-0.957), F1-Score=0.957(0.954-0.96)\n",
      "XceptionTime: AUC=0.984(0.982-0.987), Sensitivity=0.947(0.941-0.952), Specificity=0.95(0.944-0.956), Accuracy=0.948(0.944-0.952), F1-Score=0.953(0.949-0.957)\n",
      "OmniScaleCNN: AUC=0.951(0.947-0.954), Sensitivity=0.909(0.903-0.916), Specificity=0.841(0.83-0.851), Accuracy=0.878(0.872-0.884), F1-Score=0.892(0.887-0.897)\n",
      "ResCNN: AUC=0.982(0.98-0.984), Sensitivity=0.946(0.941-0.952), Specificity=0.935(0.929-0.942), Accuracy=0.941(0.937-0.946), F1-Score=0.947(0.943-0.951)\n",
      "GRU_FCN: AUC=0.967(0.964-0.97), Sensitivity=0.951(0.946-0.956), Specificity=0.88(0.872-0.889), Accuracy=0.92(0.915-0.925), F1-Score=0.929(0.925-0.934)\n",
      "MLSTM_FCN: AUC=0.968(0.965-0.971), Sensitivity=0.938(0.932-0.944), Specificity=0.89(0.882-0.899), Accuracy=0.917(0.912-0.923), F1-Score=0.926(0.921-0.93)\n"
     ]
    }
   ],
   "source": [
    "from sklearn.metrics import confusion_matrix, accuracy_score, precision_score, recall_score, f1_score\n",
    "from sklearn.utils import resample\n",
    "def weight_metrics(y_true, y_pred):\n",
    "    tn, fp, fn, tp = confusion_matrix(y_true, y_pred).ravel()\n",
    "    sensitivity = tp / (tp + fn)\n",
    "    specificity = tn / (tn + fp)\n",
    "    f1 = f1_score(y_true, y_pred,average='macro')\n",
    "    weight=f1+sensitivity/4\n",
    "    return weight\n",
    "# Define a function to find the optimal threshold\n",
    "def find_optimal_threshold(y_true, y_scores):\n",
    "    thresholds = np.arange(0.01, 1.0, 0.01)\n",
    "    f1_scores = [weight_metrics(y_true, (y_scores > t).astype(int)) for t in thresholds]\n",
    "    optimal_threshold = thresholds[np.argmax(f1_scores)]\n",
    "    return optimal_threshold\n",
    "\n",
    "# Find optimal threshold for each model\n",
    "TCN_optimal_threshold = find_optimal_threshold(ResCNN_y,TCN_pred)\n",
    "XceptionTime_optimal_threshold = find_optimal_threshold(ResCNN_y, XceptionTime_pred)\n",
    "OmniScaleCNN_optimal_threshold = find_optimal_threshold(ResCNN_y, OmniScaleCNN_pred)\n",
    "ResCNN_optimal_threshold = find_optimal_threshold(ResCNN_y, ResCNN_pred)\n",
    "GRU_FCN_optimal_threshold = find_optimal_threshold(ResCNN_y, GRU_FCN_pred)\n",
    "MLSTM_FCN_optimal_threshold = find_optimal_threshold(ResCNN_y, MLSTM_FCN_pred)\n",
    "# Define a function to calculate metrics\n",
    "def calculate_metrics(y_true, y_pred):\n",
    "    tn, fp, fn, tp = confusion_matrix(y_true, y_pred).ravel()\n",
    "    sensitivity = tp / (tp + fn)\n",
    "    specificity = tn / (tn + fp)\n",
    "    accuracy = accuracy_score(y_true, y_pred)\n",
    "    f1 = f1_score(y_true, y_pred,average='macro')\n",
    "    return sensitivity, specificity, accuracy, f1\n",
    "\n",
    "def bootstrap_ci(metric, y_true, y_pred, n_iterations=1000, ci=95):\n",
    "    values = []\n",
    "    for _ in range(n_iterations):\n",
    "        indices = resample(range(len(y_true)), replace=True)\n",
    "        resampled_true = y_true[indices]\n",
    "        resampled_pred = y_pred[indices]\n",
    "        values.append(metric(resampled_true, resampled_pred))\n",
    "    \n",
    "    alpha = (100 - ci) / 2.0\n",
    "    lower = max(0.0, np.percentile(values, alpha))\n",
    "    upper = min(1.0, np.percentile(values, 100 - alpha))\n",
    "    \n",
    "    return lower, upper\n",
    "\n",
    "def performance_ci(model_name,test,predict,threshold):\n",
    "    ci_auc_lower, ci_auc_upper = bootstrap_ci(roc_auc_score, test, predict)\n",
    "    ci_sensitivity_lower, ci_sensitivity_upper = bootstrap_ci(recall_score, test, (predict >threshold).astype(int))\n",
    "    ci_specificity_lower, ci_specificity_upper = bootstrap_ci(\n",
    "    lambda x, y: confusion_matrix(x, y).ravel()[0] / (confusion_matrix(x, y).ravel()[0] + confusion_matrix(x, y).ravel()[1]),\n",
    "    test,\n",
    "    (predict > threshold).astype(int)\n",
    ")\n",
    "    ci_accuracy_lower, ci_accuracy_upper = bootstrap_ci(accuracy_score, test, (predict >threshold).astype(int))\n",
    "    ci_f1_lower, ci_f1_upper = bootstrap_ci(f1_score, test, (predict >threshold).astype(int))\n",
    "    print(\"{}: AUC={}({}-{}), Sensitivity={}({}-{}), Specificity={}({}-{}), Accuracy={}({}-{}), F1-Score={}({}-{})\".format(model_name,round((ci_auc_upper+ci_auc_lower)/2,3),round(ci_auc_lower,3),round(ci_auc_upper,3),round((ci_sensitivity_upper+ci_sensitivity_lower)/2,3),round(ci_sensitivity_lower,3), round(ci_sensitivity_upper,3),round((ci_specificity_upper+ci_specificity_lower)/2,3),round(ci_specificity_lower,3),round(ci_specificity_upper,3), round((ci_accuracy_upper+ci_accuracy_lower)/2,3),round(ci_accuracy_lower,3),round(ci_accuracy_upper,3), round((ci_f1_upper+ci_f1_lower)/2,3),round(ci_f1_lower,3),round(ci_f1_upper,3)))\n",
    "    \n",
    "# Calculate metrics for each model\n",
    "TCN_sensitivity,TCN_specificity,TCN_accuracy,TCN_f1 = calculate_metrics(ResCNN_y, (ResCNN_pred >TCN_optimal_threshold ).astype(int))\n",
    "XceptionTime_sensitivity, XceptionTime_specificity, XceptionTime_accuracy, XceptionTime_f1 = calculate_metrics(ResCNN_y, (XceptionTime_pred > XceptionTime_optimal_threshold).astype(int))\n",
    "OmniScaleCNN_sensitivity, OmniScaleCNN_specificity, OmniScaleCNN_accuracy, OmniScaleCNN_f1 = calculate_metrics(ResCNN_y, (OmniScaleCNN_pred > OmniScaleCNN_optimal_threshold).astype(int))\n",
    "ResCNN_sensitivity, ResCNN_specificity, ResCNN_accuracy, ResCNN_f1 = calculate_metrics(ResCNN_y, (ResCNN_pred > ResCNN_optimal_threshold).astype(int))\n",
    "GRU_FCN_sensitivity, GRU_FCN_specificity, GRU_FCN_accuracy, GRU_FCN_f1 = calculate_metrics(ResCNN_y, (GRU_FCN_pred > GRU_FCN_optimal_threshold).astype(int))\n",
    "MLSTM_FCN_sensitivity, MLSTM_FCN_specificity, MLSTM_FCN_accuracy, MLSTM_FCN_f1 = calculate_metrics(ResCNN_y, (MLSTM_FCN_pred > MLSTM_FCN_optimal_threshold).astype(int))\n",
    "\n",
    "\n",
    "print(\"model performance(95% CI)\")\n",
    "performance_ci('TCN',np.array(ResCNN_y),np.array(TCN_pred),TCN_optimal_threshold)\n",
    "performance_ci('XceptionTime',np.array(ResCNN_y),np.array(XceptionTime_pred),XceptionTime_optimal_threshold)\n",
    "performance_ci('OmniScaleCNN',np.array(ResCNN_y),np.array(OmniScaleCNN_pred),OmniScaleCNN_optimal_threshold)\n",
    "performance_ci('ResCNN',np.array(ResCNN_y),np.array(ResCNN_pred),ResCNN_optimal_threshold)\n",
    "performance_ci('GRU_FCN',np.array(ResCNN_y),np.array(GRU_FCN_pred),GRU_FCN_optimal_threshold)\n",
    "performance_ci('MLSTM_FCN',np.array(ResCNN_y),np.array(MLSTM_FCN_pred),MLSTM_FCN_optimal_threshold)\n"
   ]
  },
  {
   "cell_type": "code",
   "execution_count": 110,
   "metadata": {},
   "outputs": [
    {
     "data": {
      "application/vnd.jupyter.widget-view+json": {
       "model_id": "f978cc081f3245cebb02ccc9438a1b99",
       "version_major": 2,
       "version_minor": 0
      },
      "text/plain": [
       "  0%|          | 0/1030 [00:00<?, ?it/s]"
      ]
     },
     "metadata": {},
     "output_type": "display_data"
    },
    {
     "data": {
      "application/vnd.jupyter.widget-view+json": {
       "model_id": "992cbb6c73d742349f7384a049c9d4a9",
       "version_major": 2,
       "version_minor": 0
      },
      "text/plain": [
       "  0%|          | 0/1030 [00:00<?, ?it/s]"
      ]
     },
     "metadata": {},
     "output_type": "display_data"
    },
    {
     "name": "stdout",
     "output_type": "stream",
     "text": [
      "accuracy: 0.0000\n"
     ]
    },
    {
     "data": {
      "application/vnd.jupyter.widget-view+json": {
       "model_id": "9a85d942f9454ca8b60ef7a60d57b44a",
       "version_major": 2,
       "version_minor": 0
      },
      "text/plain": [
       "  0%|          | 0/1030 [00:00<?, ?it/s]"
      ]
     },
     "metadata": {},
     "output_type": "display_data"
    },
    {
     "name": "stdout",
     "output_type": "stream",
     "text": [
      "accuracy: 0.1388\n"
     ]
    },
    {
     "data": {
      "application/vnd.jupyter.widget-view+json": {
       "model_id": "0c18d2d5bda042f59be650db7ddd99fd",
       "version_major": 2,
       "version_minor": 0
      },
      "text/plain": [
       "  0%|          | 0/1030 [00:00<?, ?it/s]"
      ]
     },
     "metadata": {},
     "output_type": "display_data"
    },
    {
     "name": "stdout",
     "output_type": "stream",
     "text": [
      "accuracy: 0.6592\n"
     ]
    },
    {
     "data": {
      "application/vnd.jupyter.widget-view+json": {
       "model_id": "a0bedf8e6034477ab4efc59cff947a83",
       "version_major": 2,
       "version_minor": 0
      },
      "text/plain": [
       "  0%|          | 0/1030 [00:00<?, ?it/s]"
      ]
     },
     "metadata": {},
     "output_type": "display_data"
    },
    {
     "name": "stdout",
     "output_type": "stream",
     "text": [
      "accuracy: 0.6728\n"
     ]
    },
    {
     "data": {
      "application/vnd.jupyter.widget-view+json": {
       "model_id": "7c02410c26a74eb29d26bfa144168593",
       "version_major": 2,
       "version_minor": 0
      },
      "text/plain": [
       "  0%|          | 0/1030 [00:00<?, ?it/s]"
      ]
     },
     "metadata": {},
     "output_type": "display_data"
    },
    {
     "name": "stdout",
     "output_type": "stream",
     "text": [
      "accuracy: 0.8175\n"
     ]
    },
    {
     "data": {
      "application/vnd.jupyter.widget-view+json": {
       "model_id": "a2eee6ad759a43ab8676ed2ce8978ed2",
       "version_major": 2,
       "version_minor": 0
      },
      "text/plain": [
       "  0%|          | 0/1030 [00:00<?, ?it/s]"
      ]
     },
     "metadata": {},
     "output_type": "display_data"
    },
    {
     "name": "stdout",
     "output_type": "stream",
     "text": [
      "accuracy: 0.9864\n"
     ]
    },
    {
     "data": {
      "application/vnd.jupyter.widget-view+json": {
       "model_id": "10caa7410fe44e9bbbc74d655bc415a4",
       "version_major": 2,
       "version_minor": 0
      },
      "text/plain": [
       "  0%|          | 0/1030 [00:00<?, ?it/s]"
      ]
     },
     "metadata": {},
     "output_type": "display_data"
    },
    {
     "name": "stdout",
     "output_type": "stream",
     "text": [
      "accuracy: 0.0951\n"
     ]
    },
    {
     "data": {
      "application/vnd.jupyter.widget-view+json": {
       "model_id": "c7aca076efc6477ba7a38ab010c97e47",
       "version_major": 2,
       "version_minor": 0
      },
      "text/plain": [
       "  0%|          | 0/1030 [00:00<?, ?it/s]"
      ]
     },
     "metadata": {},
     "output_type": "display_data"
    },
    {
     "name": "stdout",
     "output_type": "stream",
     "text": [
      "accuracy: 0.9485\n"
     ]
    }
   ],
   "source": [
    "class CustomDataset(Dataset):\n",
    "    def __init__(self,path,data,label ,transform=None, target_transform=None):\n",
    "        self.PPG_data=data\n",
    "        self.PPG_label=label\n",
    "        self.PPG_path=path\n",
    "    def __len__(self):\n",
    "        return len(self.PPG_data)\n",
    "\n",
    "    def __getitem__(self, idx):\n",
    "        signal_path=self.PPG_path[idx]\n",
    "        signal_tensor=self.PPG_data[idx]\n",
    "        AF_signal_label=self.PPG_label[idx]\n",
    "        return signal_path,signal_tensor,AF_signal_label\n",
    "    \n",
    "\n",
    "real_csv_list =glob('../../data/nor_collection/**/*.csv')\n",
    "\n",
    "file_list=[]\n",
    "real_data=torch.empty(len(real_csv_list),1,3000)\n",
    "real_label=torch.empty(len(real_data),1)\n",
    "for i in tqdm(range(len(real_csv_list))):\n",
    "    AF_signal_label=0\n",
    "    file_name=real_csv_list[i]\n",
    "    file_list.append(file_name)\n",
    "    signal_csv=pd.read_csv(real_csv_list[i])['PPG'].to_numpy()\n",
    "    real_data[i]=torch.tensor(signal_csv)\n",
    "    real_label[i]=torch.tensor([AF_signal_label])   \n",
    "def test(model,dataloader,optim1):\n",
    "    validation_tqdm=tqdm(dataloader)\n",
    "    accuracy = torchmetrics.Accuracy(task=\"binary\", num_classes=1).to(device0)\n",
    "    model.eval()\n",
    "    val_count=0\n",
    "    path_list=[]\n",
    "    y_list=[]\n",
    "    predict_list=[]\n",
    "    val_running_loss=0.0\n",
    "    val_acc_loss=0\n",
    "    criterion = nn.BCEWithLogitsLoss().to(device0)\n",
    "    with torch.no_grad():\n",
    "        for path,x, y in validation_tqdm:\n",
    "            \n",
    "            path_list.append(path)\n",
    "            y_list.append(y.item())\n",
    "            y = y.to(device0).float()\n",
    "            val_count+=1\n",
    "            x=x.to(device0).float()\n",
    "            \n",
    "            predict = model(x).to(device0)\n",
    "            predict_list.append(F.sigmoid(predict).item())\n",
    "            acc=accuracy(F.sigmoid(predict)>optim1, y)\n",
    "            cost = criterion(predict, y)\n",
    "            val_running_loss+=cost.item()\n",
    "            val_acc_loss+=acc\n",
    "        print(f\"accuracy: {val_acc_loss/val_count:.4f}\")\n",
    "    return path_list,y_list,predict_list\n",
    "\n",
    "real_dataset=CustomDataset(file_list,real_data,real_label)\n",
    "real_dataloader = DataLoader(real_dataset, batch_size=batch_size, shuffle=False, drop_last=True)\n",
    "model = gMLP(1,1,3000).to(device0)\n",
    "model.load_state_dict(torch.load('../../model/architecture_waveform/PPG_gMLP_callback.pt'), strict=False)\n",
    "gMLP_path,gMLP_y,gMLP_pred=test(model,real_dataloader,0.5)\n",
    "model = XCM(1,1,3000).to(device0)\n",
    "model.load_state_dict(torch.load('../../model/architecture_waveform/PPG_XCM_callback.pt'), strict=False)\n",
    "XCM_path,XCM_y,XCM_pred=test(model,real_dataloader,0.5)\n",
    "model = ResCNN(1,1).to(device0)\n",
    "model.load_state_dict(torch.load('../../model/architecture_waveform/PPG_ResCNN_callback.pt'), strict=False)\n",
    "ResCNN_path,ResCNN_y,ResCNN_pred=test(model,real_dataloader,ResCNN_optimal_threshold)\n",
    "model =OmniScaleCNN(1,1,3000).to(device0)\n",
    "model.load_state_dict(torch.load('../../model/architecture_waveform/PPG_OmniScaleCNN_callback.pt'), strict=False)\n",
    "OmniScaleCNN_path,OmniScaleCNN_y,OmniScaleCNN_pred=test(model,real_dataloader,OmniScaleCNN_optimal_threshold)\n",
    "model = TCN(1,1).to(device0)\n",
    "model.load_state_dict(torch.load('../../model/architecture_waveform/PPG_TCN_callback.pt'), strict=False)\n",
    "TCN_path,TCN_y,TCN_pred=test(model,real_dataloader,TCN_optimal_threshold)\n",
    "model =XceptionTimePlus(1,1,3000).to(device0)\n",
    "model.load_state_dict(torch.load('../../model/architecture_waveform/PPG_XceptionTimePlus_callback.pt'), strict=False)\n",
    "XceptionTime_path,XceptionTime_y,XceptionTime_pred=test(model,real_dataloader,XceptionTime_optimal_threshold)\n",
    "model = MLSTM_FCN(1,1,3000).to(device0)\n",
    "model.load_state_dict(torch.load('../../model/architecture_waveform/PPG_MLSTM_FCN_callback.pt'), strict=False)\n",
    "MLSTM_FCN_path,MLSTM_FCN_y,MLSTM_FCN_pred=test(model,real_dataloader,MLSTM_FCN_optimal_threshold)\n",
    "model =GRU_FCN(1,1,3000).to(device0)\n",
    "model.load_state_dict(torch.load('../../model/architecture_waveform/PPG_GRU_FCN_callback.pt'), strict=False)\n",
    "GRU_FCN_path,GRU_FCN_y,GRU_FCN_pred=test(model,real_dataloader,GRU_FCN_optimal_threshold)"
   ]
  },
  {
   "cell_type": "code",
   "execution_count": 117,
   "metadata": {},
   "outputs": [
    {
     "data": {
      "text/plain": [
       "0.07511916459126053"
      ]
     },
     "execution_count": 117,
     "metadata": {},
     "output_type": "execute_result"
    }
   ],
   "source": [
    "np.std(np.array([0.210 , 0.229 ,0.061]))"
   ]
  }
 ],
 "metadata": {
  "kernelspec": {
   "display_name": "LeeYS",
   "language": "python",
   "name": "python3"
  },
  "language_info": {
   "codemirror_mode": {
    "name": "ipython",
    "version": 3
   },
   "file_extension": ".py",
   "mimetype": "text/x-python",
   "name": "python",
   "nbconvert_exporter": "python",
   "pygments_lexer": "ipython3",
   "version": "3.9.0"
  }
 },
 "nbformat": 4,
 "nbformat_minor": 2
}
