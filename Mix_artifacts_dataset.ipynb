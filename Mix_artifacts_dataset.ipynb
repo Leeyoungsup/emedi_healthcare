{
 "cells": [
  {
   "cell_type": "code",
   "execution_count": null,
   "metadata": {},
   "outputs": [],
   "source": [
    "import numpy as np\n",
    "import scipy\n",
    "import pandas as pd\n",
    "from glob import glob\n",
    "from PIL import Image\n",
    "import matplotlib.pyplot as plt\n",
    "from tqdm.auto import tqdm"
   ]
  },
  {
   "cell_type": "code",
   "execution_count": null,
   "metadata": {},
   "outputs": [],
   "source": [
    "mat_file_list= glob('../../data/Mix_artifacts/raw/*.mat')\n",
    "csv_file_list=[f.replace('.mat', '.csv') for f in mat_file_list]\n",
    "csv_file_list=[f.replace('/raw/', '/csv/') for f in csv_file_list]\n",
    "for i in tqdm(range(len(mat_file_list))):\n",
    "    mat_file=scipy.io.loadmat(mat_file_list[i])\n",
    "    value_array=mat_file['signals'][0][0]\n",
    "    Type_1=value_array[5][0]\n",
    "    Type_2=value_array[5][1]\n",
    "    Type_3=value_array[5][2]\n",
    "    Type_4=value_array[5][3]\n",
    "    Type_5=value_array[5][4]\n",
    "    raw_PPG=value_array[1][0]\n",
    "    PPG=np.zeros([len(Type_1)],dtype=np.int8)\n",
    "    prev_index=0\n",
    "    for j in range(len(raw_PPG)):\n",
    "        next_index=int(len(Type_1)/len(raw_PPG)*(j+1))\n",
    "        PPG[prev_index:next_index+1]=raw_PPG[j]\n",
    "        prev_index=int(len(Type_1)/len(raw_PPG)*(j+1))+1\n",
    "    data = {'PPG':PPG,'Type_1' : Type_1,'Type_2' : Type_2,'Type_3' : Type_3,'Type_4' : Type_4,'Type_5' : Type_5}\n",
    "    data=pd.DataFrame(data)\n",
    "    data.to_csv(csv_file_list[i],mode = 'w', index=False)"
   ]
  },
  {
   "cell_type": "code",
   "execution_count": 28,
   "metadata": {},
   "outputs": [
    {
     "data": {
      "application/vnd.jupyter.widget-view+json": {
       "model_id": "a28b4440afcf43e9a8419f9770fd430b",
       "version_major": 2,
       "version_minor": 0
      },
      "text/plain": [
       "  0%|          | 0/901 [00:00<?, ?it/s]"
      ]
     },
     "metadata": {},
     "output_type": "display_data"
    }
   ],
   "source": [
    "positive_count=0\n",
    "negative_count=0\n",
    "pulse=3000\n",
    "waveform_path='../../data/Mix_artifacts/wavefrom/'\n",
    "for i in tqdm(range(len(csv_file_list))):\n",
    "    csv_data=pd.read_csv(csv_file_list[i])\n",
    "    count=len(csv_data)\n",
    "    a=np.random.randint(0, 10)\n",
    "    if a==0 or a==1:\n",
    "        data_set_class='test'\n",
    "    else: \n",
    "        data_set_class='train'\n",
    "    for j in range(count//(pulse-500)-1):\n",
    "        sec_data=csv_data[j*(pulse-500):j*(pulse-500)+pulse]\n",
    "        PPG=sec_data['PPG'].to_numpy()\n",
    "        PPG_mean=PPG.mean()\n",
    "        Type_1=sec_data['Type_1'].to_numpy()\n",
    "        Type_2=sec_data['Type_2'].to_numpy()\n",
    "        Type_3=sec_data['Type_3'].to_numpy()\n",
    "        Type_4=sec_data['Type_4'].to_numpy()\n",
    "        Type_5=sec_data['Type_5'].to_numpy()\n",
    "        if PPG_mean>1/30:\n",
    "            PPG_class='positive'\n",
    "            data = {'PPG Class':PPG,'PPG' : Type_1}\n",
    "            data_1=pd.DataFrame(data)\n",
    "            data_1.to_csv(waveform_path+PPG_class+'/Type_1_'+str(positive_count)+'.csv',mode = 'w', index=False)\n",
    "            data = {'PPG Class':PPG,'PPG' : Type_2}\n",
    "            data_2=pd.DataFrame(data)\n",
    "            data_2.to_csv(waveform_path+PPG_class+'/Type_2_'+str(positive_count)+'.csv',mode = 'w', index=False)\n",
    "            data = {'PPG Class':PPG,'PPG' : Type_3}\n",
    "            data_3=pd.DataFrame(data)\n",
    "            data_3.to_csv(waveform_path+PPG_class+'/Type_3_'+str(positive_count)+'.csv',mode = 'w', index=False)\n",
    "            data = {'PPG Class':PPG,'PPG' : Type_4}\n",
    "            data_4=pd.DataFrame(data)\n",
    "            data_4.to_csv(waveform_path+PPG_class+'/Type_4_'+str(positive_count)+'.csv',mode = 'w', index=False)\n",
    "            data = {'PPG Class':PPG,'PPG' : Type_5}\n",
    "            data_5=pd.DataFrame(data)\n",
    "            data_5.to_csv(waveform_path+PPG_class+'/Type_5_'+str(positive_count)+'.csv',mode = 'w', index=False)\n",
    "            positive_count+=1\n",
    "        elif PPG_mean==0:\n",
    "            PPG_class='negative'\n",
    "            data = {'PPG Class':PPG,'PPG' : Type_1}\n",
    "            data_1=pd.DataFrame(data)\n",
    "            data_1.to_csv(waveform_path+PPG_class+'/Type_1_'+str(negative_count)+'.csv',mode = 'w', index=False)\n",
    "            data = {'PPG Class':PPG,'PPG' : Type_2}\n",
    "            data_2=pd.DataFrame(data)\n",
    "            data_2.to_csv(waveform_path+PPG_class+'/Type_2_'+str(negative_count)+'.csv',mode = 'w', index=False)\n",
    "            data = {'PPG Class':PPG,'PPG' : Type_3}\n",
    "            data_3=pd.DataFrame(data)\n",
    "            data_3.to_csv(waveform_path+PPG_class+'/Type_3_'+str(negative_count)+'.csv',mode = 'w', index=False)\n",
    "            data = {'PPG Class':PPG,'PPG' : Type_4}\n",
    "            data_4=pd.DataFrame(data)\n",
    "            data_4.to_csv(waveform_path+PPG_class+'/Type_4_'+str(negative_count)+'.csv',mode = 'w', index=False)\n",
    "            data = {'PPG Class':PPG,'PPG' : Type_5}\n",
    "            data_5=pd.DataFrame(data)\n",
    "            data_5.to_csv(waveform_path+PPG_class+'/Type_5_'+str(negative_count)+'.csv',mode = 'w', index=False)\n",
    "            negative_count+=1"
   ]
  },
  {
   "cell_type": "code",
   "execution_count": 26,
   "metadata": {},
   "outputs": [
    {
     "data": {
      "text/plain": [
       "0.03333333333333333"
      ]
     },
     "execution_count": 26,
     "metadata": {},
     "output_type": "execute_result"
    }
   ],
   "source": [
    "1/30"
   ]
  }
 ],
 "metadata": {
  "kernelspec": {
   "display_name": "LeeYS",
   "language": "python",
   "name": "python3"
  },
  "language_info": {
   "codemirror_mode": {
    "name": "ipython",
    "version": 3
   },
   "file_extension": ".py",
   "mimetype": "text/x-python",
   "name": "python",
   "nbconvert_exporter": "python",
   "pygments_lexer": "ipython3",
   "version": "3.9.0"
  }
 },
 "nbformat": 4,
 "nbformat_minor": 2
}
