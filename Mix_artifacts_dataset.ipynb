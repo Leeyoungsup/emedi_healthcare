{
 "cells": [
  {
   "cell_type": "code",
   "execution_count": 1,
   "metadata": {},
   "outputs": [],
   "source": [
    "import numpy as np\n",
    "import scipy\n",
    "import pandas as pd\n",
    "from glob import glob\n",
    "from PIL import Image\n",
    "import matplotlib.pyplot as plt\n",
    "from tqdm.auto import tqdm\n",
    "import os\n",
    "def createDirectory(directory):\n",
    "    try:\n",
    "        if not os.path.exists(directory):\n",
    "            os.makedirs(directory)\n",
    "    except OSError:\n",
    "        print(\"Error: Failed to create the directory.\")"
   ]
  },
  {
   "cell_type": "code",
   "execution_count": 2,
   "metadata": {},
   "outputs": [
    {
     "data": {
      "application/vnd.jupyter.widget-view+json": {
       "model_id": "bb1905be5f5f49f89c2eb2b9032ff454",
       "version_major": 2,
       "version_minor": 0
      },
      "text/plain": [
       "  0%|          | 0/2400 [00:00<?, ?it/s]"
      ]
     },
     "metadata": {},
     "output_type": "display_data"
    }
   ],
   "source": [
    "folder_list=glob('../../data/MixArtifacts/raw/**')\n",
    "folder_list=[f.replace('/raw/', '/csv/') for f in folder_list]\n",
    "for i in range(len(folder_list)):\n",
    "    createDirectory(folder_list[i])\n",
    "mat_file_list= glob('../../data/MixArtifacts/raw/**/*.mat')\n",
    "csv_file_list=[f.replace('.mat', '.csv') for f in mat_file_list]\n",
    "csv_file_list=[f.replace('/raw/', '/csv/') for f in csv_file_list]\n",
    "for i in tqdm(range(len(mat_file_list))):\n",
    "    mat_file=scipy.io.loadmat(mat_file_list[i])\n",
    "    value_array=mat_file['signals'][0][0]\n",
    "    Type_1=value_array[5][0]\n",
    "    Type_2=value_array[5][1]\n",
    "    Type_3=value_array[5][2]\n",
    "    Type_4=value_array[5][3]\n",
    "    Type_5=value_array[5][4]\n",
    "    raw_PPG=value_array[1][0]\n",
    "    PPG=np.zeros([len(Type_1)],dtype=np.int8)\n",
    "    prev_index=0\n",
    "    for j in range(len(raw_PPG)):\n",
    "        next_index=int(len(Type_1)/len(raw_PPG)*(j+1))\n",
    "        PPG[prev_index:next_index+1]=raw_PPG[j]\n",
    "        prev_index=int(len(Type_1)/len(raw_PPG)*(j+1))+1\n",
    "    data = {'PPG':PPG,'Type_1' : Type_1,'Type_2' : Type_2,'Type_3' : Type_3,'Type_4' : Type_4,'Type_5' : Type_5}\n",
    "    data=pd.DataFrame(data)\n",
    "    data.to_csv(csv_file_list[i],mode = 'w', index=False)"
   ]
  },
  {
   "cell_type": "code",
   "execution_count": 4,
   "metadata": {},
   "outputs": [
    {
     "data": {
      "text/plain": [
       "'서맥'"
      ]
     },
     "execution_count": 4,
     "metadata": {},
     "output_type": "execute_result"
    }
   ],
   "source": [
    "os.path.basename(os.path.dirname(csv_file_list[0]))"
   ]
  },
  {
   "cell_type": "code",
   "execution_count": 7,
   "metadata": {},
   "outputs": [
    {
     "data": {
      "application/vnd.jupyter.widget-view+json": {
       "model_id": "ea11625562af4b0c9a01d1d4d7934f58",
       "version_major": 2,
       "version_minor": 0
      },
      "text/plain": [
       "  0%|          | 0/2400 [00:00<?, ?it/s]"
      ]
     },
     "metadata": {},
     "output_type": "display_data"
    },
    {
     "name": "stderr",
     "output_type": "stream",
     "text": [
      "/tmp/ipykernel_166369/931564594.py:71: FutureWarning: The behavior of DataFrame concatenation with empty or all-NA entries is deprecated. In a future version, this will no longer exclude empty or all-NA columns when determining the result dtypes. To retain the old behavior, exclude the relevant entries before the concat operation.\n",
      "  train_mean_df = pd.concat([train_mean_df,PPG_mean_temp])\n",
      "/tmp/ipykernel_166369/931564594.py:92: FutureWarning: The behavior of DataFrame concatenation with empty or all-NA entries is deprecated. In a future version, this will no longer exclude empty or all-NA columns when determining the result dtypes. To retain the old behavior, exclude the relevant entries before the concat operation.\n",
      "  val_mean_df = pd.concat([val_mean_df,PPG_mean_temp])\n",
      "/tmp/ipykernel_166369/931564594.py:82: FutureWarning: The behavior of DataFrame concatenation with empty or all-NA entries is deprecated. In a future version, this will no longer exclude empty or all-NA columns when determining the result dtypes. To retain the old behavior, exclude the relevant entries before the concat operation.\n",
      "  test_mean_df = pd.concat([test_mean_df,PPG_mean_temp])\n"
     ]
    }
   ],
   "source": [
    "file_count=0\n",
    "negative_count=0\n",
    "pulse=3000\n",
    "waveform_binary_path='../../data/MixArtifacts/b30sec/'\n",
    "train_binary_df=pd.DataFrame(columns=['FileName','class','AF'])\n",
    "test_binary_df=pd.DataFrame(columns=['FileName','class','AF'])\n",
    "val_binary_df=pd.DataFrame(columns=['FileName','class','AF'])\n",
    "waveform_mean_path='../../data/MixArtifacts/m30sec/'\n",
    "train_mean_df=pd.DataFrame(columns=['FileName','class','AF'])\n",
    "test_mean_df=pd.DataFrame(columns=['FileName','class','AF'])\n",
    "val_mean_df=pd.DataFrame(columns=['FileName','class','AF'])\n",
    "def csv_save(PPG,Type_1,Type_2,Type_3,Type_4,Type_5,waveform_path,data_set_class,count):\n",
    "    data = {'PPG Class':PPG,'PPG' : Type_1}\n",
    "    data_1=pd.DataFrame(data)\n",
    "    data_1.to_csv(waveform_path+data_set_class+'/Type_1_'+str(count)+'.csv',mode = 'w', index=False)\n",
    "    data = {'PPG Class':PPG,'PPG' : Type_2}\n",
    "    data_2=pd.DataFrame(data)\n",
    "    data_2.to_csv(waveform_path+data_set_class+'/Type_2_'+str(count)+'.csv',mode = 'w', index=False)\n",
    "    data = {'PPG Class':PPG,'PPG' : Type_3}\n",
    "    data_3=pd.DataFrame(data)\n",
    "    data_3.to_csv(waveform_path+data_set_class+'/Type_3_'+str(count)+'.csv',mode = 'w', index=False)\n",
    "    data = {'PPG Class':PPG,'PPG' : Type_4}\n",
    "    data_4=pd.DataFrame(data)\n",
    "    data_4.to_csv(waveform_path+data_set_class+'/Type_4_'+str(count)+'.csv',mode = 'w', index=False)\n",
    "    data = {'PPG Class':PPG,'PPG' : Type_5}\n",
    "    data_5=pd.DataFrame(data)\n",
    "    data_5.to_csv(waveform_path+data_set_class+'/Type_5_'+str(count)+'.csv',mode = 'w', index=False)\n",
    "    \n",
    "    \n",
    "for i in tqdm(range(len(csv_file_list))):\n",
    "    csv_data=pd.read_csv(csv_file_list[i])\n",
    "    count=len(csv_data)\n",
    "    a=np.random.randint(0, 10)\n",
    "    if a==0:\n",
    "        data_set_class='test'\n",
    "    elif a==1:\n",
    "        data_set_class='val'\n",
    "    else: \n",
    "        data_set_class='train'\n",
    "    for j in range(count//(pulse-500)-1):\n",
    "        sec_data=csv_data[j*(pulse-500):j*(pulse-500)+pulse]\n",
    "        PPG=sec_data['PPG'].to_numpy()\n",
    "        PPG_mean=PPG.mean()\n",
    "        Type_1=sec_data['Type_1'].to_numpy()\n",
    "        Type_2=sec_data['Type_2'].to_numpy()\n",
    "        Type_3=sec_data['Type_3'].to_numpy()\n",
    "        Type_4=sec_data['Type_4'].to_numpy()\n",
    "        Type_5=sec_data['Type_5'].to_numpy()\n",
    "        file_name_list=[]\n",
    "        PPG_binary_list=[]\n",
    "        PPG_mean_list=[]\n",
    "        class_list=[]\n",
    "        \n",
    "        for k in range(1,6):\n",
    "            file_name_list.append('Type_'+str(k)+'_'+str(file_count)+'.csv')\n",
    "            PPG_mean_list.append(PPG_mean)\n",
    "            class_list.append(os.path.basename(os.path.dirname(csv_file_list[i])))\n",
    "            if PPG_mean>0:\n",
    "                PPG_binary_list.append(1)\n",
    "            else: \n",
    "                PPG_binary_list.append(0)\n",
    "                \n",
    "        if data_set_class=='train':\n",
    "            csv_save(PPG,Type_1,Type_2,Type_3,Type_4,Type_5,waveform_binary_path,data_set_class,file_count)\n",
    "            csv_save(PPG,Type_1,Type_2,Type_3,Type_4,Type_5,waveform_mean_path,data_set_class,file_count)\n",
    "            binary_data={'FileName':file_name_list,'class':class_list,'AF':PPG_binary_list}\n",
    "            mean_data={'FileName':file_name_list,'class':class_list,'AF':PPG_mean_list}\n",
    "            PPG_binary_temp=pd.DataFrame(binary_data)\n",
    "            PPG_mean_temp=pd.DataFrame(mean_data)\n",
    "            train_binary_df = pd.concat([train_binary_df,PPG_binary_temp])\n",
    "            train_mean_df = pd.concat([train_mean_df,PPG_mean_temp])\n",
    "            file_count+=1\n",
    "            \n",
    "        if data_set_class=='test':\n",
    "            csv_save(PPG,Type_1,Type_2,Type_3,Type_4,Type_5,waveform_binary_path,data_set_class,file_count)\n",
    "            csv_save(PPG,Type_1,Type_2,Type_3,Type_4,Type_5,waveform_mean_path,data_set_class,file_count)\n",
    "            binary_data={'FileName':file_name_list,'class':class_list,'AF':PPG_binary_list}\n",
    "            mean_data={'FileName':file_name_list,'class':class_list,'AF':PPG_mean_list}\n",
    "            PPG_binary_temp=pd.DataFrame(binary_data)\n",
    "            PPG_mean_temp=pd.DataFrame(mean_data)\n",
    "            test_binary_df = pd.concat([test_binary_df,PPG_binary_temp])\n",
    "            test_mean_df = pd.concat([test_mean_df,PPG_mean_temp])\n",
    "            file_count+=1\n",
    "        if data_set_class=='val':\n",
    "            csv_save(PPG,Type_1,Type_2,Type_3,Type_4,Type_5,waveform_binary_path,data_set_class,file_count)\n",
    "            csv_save(PPG,Type_1,Type_2,Type_3,Type_4,Type_5,waveform_mean_path,data_set_class,file_count)\n",
    "            binary_data={'FileName':file_name_list,'class':class_list,'AF':PPG_binary_list}\n",
    "            mean_data={'FileName':file_name_list,'class':class_list,'AF':PPG_mean_list}\n",
    "            PPG_binary_temp=pd.DataFrame(binary_data)\n",
    "            PPG_mean_temp=pd.DataFrame(mean_data)\n",
    "            val_binary_df = pd.concat([val_binary_df,PPG_binary_temp])\n",
    "            val_mean_df = pd.concat([val_mean_df,PPG_mean_temp])\n",
    "            file_count+=1\n",
    "train_binary_df.to_csv(waveform_binary_path+'train.csv',encoding='cp949', index=False)\n",
    "test_binary_df.to_csv(waveform_binary_path+'test.csv',encoding='cp949', index=False)\n",
    "val_binary_df.to_csv(waveform_binary_path+'val.csv',encoding='cp949', index=False)\n",
    "train_mean_df.to_csv(waveform_mean_path+'train.csv',encoding='cp949', index=False)\n",
    "test_mean_df.to_csv(waveform_mean_path+'test.csv',encoding='cp949', index=False)\n",
    "val_mean_df.to_csv(waveform_mean_path+'val.csv',encoding='cp949', index=False)"
   ]
  }
 ],
 "metadata": {
  "kernelspec": {
   "display_name": "LeeYS",
   "language": "python",
   "name": "python3"
  },
  "language_info": {
   "codemirror_mode": {
    "name": "ipython",
    "version": 3
   },
   "file_extension": ".py",
   "mimetype": "text/x-python",
   "name": "python",
   "nbconvert_exporter": "python",
   "pygments_lexer": "ipython3",
   "version": "3.9.0"
  }
 },
 "nbformat": 4,
 "nbformat_minor": 2
}
