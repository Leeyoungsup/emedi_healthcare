{
 "cells": [
  {
   "cell_type": "code",
   "execution_count": 3,
   "metadata": {},
   "outputs": [],
   "source": [
    "import numpy as np\n",
    "import scipy\n",
    "import pandas as pd\n",
    "from glob import glob\n",
    "from PIL import Image\n",
    "import matplotlib.pyplot as plt\n",
    "from tqdm.auto import tqdm"
   ]
  },
  {
   "cell_type": "code",
   "execution_count": null,
   "metadata": {},
   "outputs": [],
   "source": [
    "mat_file_list= glob('../../data/Mix_artifacts/raw/*.mat')\n",
    "csv_file_list=[f.replace('.mat', '.csv') for f in mat_file_list]\n",
    "csv_file_list=[f.replace('/raw/', '/csv/') for f in csv_file_list]\n",
    "for i in tqdm(range(len(mat_file_list))):\n",
    "    mat_file=scipy.io.loadmat(mat_file_list[i])\n",
    "    value_array=mat_file['signals'][0][0]\n",
    "    Type_1=value_array[5][0]\n",
    "    Type_2=value_array[5][1]\n",
    "    Type_3=value_array[5][2]\n",
    "    Type_4=value_array[5][3]\n",
    "    Type_5=value_array[5][4]\n",
    "    raw_PPG=value_array[1][0]\n",
    "    PPG=np.zeros([len(Type_1)],dtype=np.int8)\n",
    "    prev_index=0\n",
    "    for j in range(len(raw_PPG)):\n",
    "        next_index=int(len(Type_1)/len(raw_PPG)*(j+1))\n",
    "        PPG[prev_index:next_index+1]=raw_PPG[j]\n",
    "        prev_index=int(len(Type_1)/len(raw_PPG)*(j+1))+1\n",
    "    data = {'PPG':PPG,'Type_1' : Type_1,'Type_2' : Type_2,'Type_3' : Type_3,'Type_4' : Type_4,'Type_5' : Type_5}\n",
    "    data=pd.DataFrame(data)\n",
    "    data.to_csv(csv_file_list[i],mode = 'w', index=False)"
   ]
  },
  {
   "cell_type": "code",
   "execution_count": 6,
   "metadata": {},
   "outputs": [
    {
     "data": {
      "application/vnd.jupyter.widget-view+json": {
       "model_id": "1575c2ecf9514988aab29bbed9e00a72",
       "version_major": 2,
       "version_minor": 0
      },
      "text/plain": [
       "  0%|          | 0/901 [00:00<?, ?it/s]"
      ]
     },
     "metadata": {},
     "output_type": "display_data"
    },
    {
     "ename": "KeyboardInterrupt",
     "evalue": "",
     "output_type": "error",
     "traceback": [
      "\u001b[0;31m---------------------------------------------------------------------------\u001b[0m",
      "\u001b[0;31mKeyboardInterrupt\u001b[0m                         Traceback (most recent call last)",
      "\u001b[1;32m/home/gil/gcubme_ai2/Workspace/YS_Lee/emedihealthcare/code/emedi_healthcare/Mix_artifacts_dataset.ipynb 셀 3\u001b[0m line \u001b[0;36m5\n\u001b[1;32m     <a href='vscode-notebook-cell://ssh-remote%2B7b22686f73744e616d65223a2231302e322e35322e3638222c2275736572223a2267696c227d/home/gil/gcubme_ai2/Workspace/YS_Lee/emedihealthcare/code/emedi_healthcare/Mix_artifacts_dataset.ipynb#W5sdnNjb2RlLXJlbW90ZQ%3D%3D?line=56'>57</a>\u001b[0m \u001b[39mif\u001b[39;00m data_set_class\u001b[39m==\u001b[39m\u001b[39m'\u001b[39m\u001b[39mtrain\u001b[39m\u001b[39m'\u001b[39m:\n\u001b[1;32m     <a href='vscode-notebook-cell://ssh-remote%2B7b22686f73744e616d65223a2231302e322e35322e3638222c2275736572223a2267696c227d/home/gil/gcubme_ai2/Workspace/YS_Lee/emedihealthcare/code/emedi_healthcare/Mix_artifacts_dataset.ipynb#W5sdnNjb2RlLXJlbW90ZQ%3D%3D?line=57'>58</a>\u001b[0m     csv_save(PPG,Type_1,Type_2,Type_3,Type_4,Type_5,waveform_binary_path,data_set_class,count)\n\u001b[0;32m---> <a href='vscode-notebook-cell://ssh-remote%2B7b22686f73744e616d65223a2231302e322e35322e3638222c2275736572223a2267696c227d/home/gil/gcubme_ai2/Workspace/YS_Lee/emedihealthcare/code/emedi_healthcare/Mix_artifacts_dataset.ipynb#W5sdnNjb2RlLXJlbW90ZQ%3D%3D?line=58'>59</a>\u001b[0m     csv_save(PPG,Type_1,Type_2,Type_3,Type_4,Type_5,waveform_mean_path,data_set_class,count)\n\u001b[1;32m     <a href='vscode-notebook-cell://ssh-remote%2B7b22686f73744e616d65223a2231302e322e35322e3638222c2275736572223a2267696c227d/home/gil/gcubme_ai2/Workspace/YS_Lee/emedihealthcare/code/emedi_healthcare/Mix_artifacts_dataset.ipynb#W5sdnNjb2RlLXJlbW90ZQ%3D%3D?line=59'>60</a>\u001b[0m     binary_data\u001b[39m=\u001b[39m{\u001b[39m'\u001b[39m\u001b[39mFileName\u001b[39m\u001b[39m'\u001b[39m:file_name_list,\u001b[39m'\u001b[39m\u001b[39mPPG\u001b[39m\u001b[39m'\u001b[39m:PPG_binary_list}\n\u001b[1;32m     <a href='vscode-notebook-cell://ssh-remote%2B7b22686f73744e616d65223a2231302e322e35322e3638222c2275736572223a2267696c227d/home/gil/gcubme_ai2/Workspace/YS_Lee/emedihealthcare/code/emedi_healthcare/Mix_artifacts_dataset.ipynb#W5sdnNjb2RlLXJlbW90ZQ%3D%3D?line=60'>61</a>\u001b[0m     mean_data\u001b[39m=\u001b[39m{\u001b[39m'\u001b[39m\u001b[39mFileName\u001b[39m\u001b[39m'\u001b[39m:file_name_list,\u001b[39m'\u001b[39m\u001b[39mPPG\u001b[39m\u001b[39m'\u001b[39m:PPG_mean_list}\n",
      "\u001b[1;32m/home/gil/gcubme_ai2/Workspace/YS_Lee/emedihealthcare/code/emedi_healthcare/Mix_artifacts_dataset.ipynb 셀 3\u001b[0m line \u001b[0;36m1\n\u001b[1;32m     <a href='vscode-notebook-cell://ssh-remote%2B7b22686f73744e616d65223a2231302e322e35322e3638222c2275736572223a2267696c227d/home/gil/gcubme_ai2/Workspace/YS_Lee/emedihealthcare/code/emedi_healthcare/Mix_artifacts_dataset.ipynb#W5sdnNjb2RlLXJlbW90ZQ%3D%3D?line=10'>11</a>\u001b[0m data \u001b[39m=\u001b[39m {\u001b[39m'\u001b[39m\u001b[39mPPG Class\u001b[39m\u001b[39m'\u001b[39m:PPG,\u001b[39m'\u001b[39m\u001b[39mPPG\u001b[39m\u001b[39m'\u001b[39m : Type_1}\n\u001b[1;32m     <a href='vscode-notebook-cell://ssh-remote%2B7b22686f73744e616d65223a2231302e322e35322e3638222c2275736572223a2267696c227d/home/gil/gcubme_ai2/Workspace/YS_Lee/emedihealthcare/code/emedi_healthcare/Mix_artifacts_dataset.ipynb#W5sdnNjb2RlLXJlbW90ZQ%3D%3D?line=11'>12</a>\u001b[0m data_1\u001b[39m=\u001b[39mpd\u001b[39m.\u001b[39mDataFrame(data)\n\u001b[0;32m---> <a href='vscode-notebook-cell://ssh-remote%2B7b22686f73744e616d65223a2231302e322e35322e3638222c2275736572223a2267696c227d/home/gil/gcubme_ai2/Workspace/YS_Lee/emedihealthcare/code/emedi_healthcare/Mix_artifacts_dataset.ipynb#W5sdnNjb2RlLXJlbW90ZQ%3D%3D?line=12'>13</a>\u001b[0m data_1\u001b[39m.\u001b[39;49mto_csv(waveform_path\u001b[39m+\u001b[39;49mdata_set_class\u001b[39m+\u001b[39;49m\u001b[39m'\u001b[39;49m\u001b[39m/Type_1_\u001b[39;49m\u001b[39m'\u001b[39;49m\u001b[39m+\u001b[39;49m\u001b[39mstr\u001b[39;49m(count)\u001b[39m+\u001b[39;49m\u001b[39m'\u001b[39;49m\u001b[39m.csv\u001b[39;49m\u001b[39m'\u001b[39;49m,mode \u001b[39m=\u001b[39;49m \u001b[39m'\u001b[39;49m\u001b[39mw\u001b[39;49m\u001b[39m'\u001b[39;49m, index\u001b[39m=\u001b[39;49m\u001b[39mFalse\u001b[39;49;00m)\n\u001b[1;32m     <a href='vscode-notebook-cell://ssh-remote%2B7b22686f73744e616d65223a2231302e322e35322e3638222c2275736572223a2267696c227d/home/gil/gcubme_ai2/Workspace/YS_Lee/emedihealthcare/code/emedi_healthcare/Mix_artifacts_dataset.ipynb#W5sdnNjb2RlLXJlbW90ZQ%3D%3D?line=13'>14</a>\u001b[0m data \u001b[39m=\u001b[39m {\u001b[39m'\u001b[39m\u001b[39mPPG Class\u001b[39m\u001b[39m'\u001b[39m:PPG,\u001b[39m'\u001b[39m\u001b[39mPPG\u001b[39m\u001b[39m'\u001b[39m : Type_2}\n\u001b[1;32m     <a href='vscode-notebook-cell://ssh-remote%2B7b22686f73744e616d65223a2231302e322e35322e3638222c2275736572223a2267696c227d/home/gil/gcubme_ai2/Workspace/YS_Lee/emedihealthcare/code/emedi_healthcare/Mix_artifacts_dataset.ipynb#W5sdnNjb2RlLXJlbW90ZQ%3D%3D?line=14'>15</a>\u001b[0m data_2\u001b[39m=\u001b[39mpd\u001b[39m.\u001b[39mDataFrame(data)\n",
      "File \u001b[0;32m~/anaconda3/envs/JWSeo/lib/python3.9/site-packages/pandas/util/_decorators.py:211\u001b[0m, in \u001b[0;36mdeprecate_kwarg.<locals>._deprecate_kwarg.<locals>.wrapper\u001b[0;34m(*args, **kwargs)\u001b[0m\n\u001b[1;32m    209\u001b[0m     \u001b[39melse\u001b[39;00m:\n\u001b[1;32m    210\u001b[0m         kwargs[new_arg_name] \u001b[39m=\u001b[39m new_arg_value\n\u001b[0;32m--> 211\u001b[0m \u001b[39mreturn\u001b[39;00m func(\u001b[39m*\u001b[39;49margs, \u001b[39m*\u001b[39;49m\u001b[39m*\u001b[39;49mkwargs)\n",
      "File \u001b[0;32m~/anaconda3/envs/JWSeo/lib/python3.9/site-packages/pandas/core/generic.py:3720\u001b[0m, in \u001b[0;36mNDFrame.to_csv\u001b[0;34m(self, path_or_buf, sep, na_rep, float_format, columns, header, index, index_label, mode, encoding, compression, quoting, quotechar, lineterminator, chunksize, date_format, doublequote, escapechar, decimal, errors, storage_options)\u001b[0m\n\u001b[1;32m   3709\u001b[0m df \u001b[39m=\u001b[39m \u001b[39mself\u001b[39m \u001b[39mif\u001b[39;00m \u001b[39misinstance\u001b[39m(\u001b[39mself\u001b[39m, ABCDataFrame) \u001b[39melse\u001b[39;00m \u001b[39mself\u001b[39m\u001b[39m.\u001b[39mto_frame()\n\u001b[1;32m   3711\u001b[0m formatter \u001b[39m=\u001b[39m DataFrameFormatter(\n\u001b[1;32m   3712\u001b[0m     frame\u001b[39m=\u001b[39mdf,\n\u001b[1;32m   3713\u001b[0m     header\u001b[39m=\u001b[39mheader,\n\u001b[0;32m   (...)\u001b[0m\n\u001b[1;32m   3717\u001b[0m     decimal\u001b[39m=\u001b[39mdecimal,\n\u001b[1;32m   3718\u001b[0m )\n\u001b[0;32m-> 3720\u001b[0m \u001b[39mreturn\u001b[39;00m DataFrameRenderer(formatter)\u001b[39m.\u001b[39;49mto_csv(\n\u001b[1;32m   3721\u001b[0m     path_or_buf,\n\u001b[1;32m   3722\u001b[0m     lineterminator\u001b[39m=\u001b[39;49mlineterminator,\n\u001b[1;32m   3723\u001b[0m     sep\u001b[39m=\u001b[39;49msep,\n\u001b[1;32m   3724\u001b[0m     encoding\u001b[39m=\u001b[39;49mencoding,\n\u001b[1;32m   3725\u001b[0m     errors\u001b[39m=\u001b[39;49merrors,\n\u001b[1;32m   3726\u001b[0m     compression\u001b[39m=\u001b[39;49mcompression,\n\u001b[1;32m   3727\u001b[0m     quoting\u001b[39m=\u001b[39;49mquoting,\n\u001b[1;32m   3728\u001b[0m     columns\u001b[39m=\u001b[39;49mcolumns,\n\u001b[1;32m   3729\u001b[0m     index_label\u001b[39m=\u001b[39;49mindex_label,\n\u001b[1;32m   3730\u001b[0m     mode\u001b[39m=\u001b[39;49mmode,\n\u001b[1;32m   3731\u001b[0m     chunksize\u001b[39m=\u001b[39;49mchunksize,\n\u001b[1;32m   3732\u001b[0m     quotechar\u001b[39m=\u001b[39;49mquotechar,\n\u001b[1;32m   3733\u001b[0m     date_format\u001b[39m=\u001b[39;49mdate_format,\n\u001b[1;32m   3734\u001b[0m     doublequote\u001b[39m=\u001b[39;49mdoublequote,\n\u001b[1;32m   3735\u001b[0m     escapechar\u001b[39m=\u001b[39;49mescapechar,\n\u001b[1;32m   3736\u001b[0m     storage_options\u001b[39m=\u001b[39;49mstorage_options,\n\u001b[1;32m   3737\u001b[0m )\n",
      "File \u001b[0;32m~/anaconda3/envs/JWSeo/lib/python3.9/site-packages/pandas/util/_decorators.py:211\u001b[0m, in \u001b[0;36mdeprecate_kwarg.<locals>._deprecate_kwarg.<locals>.wrapper\u001b[0;34m(*args, **kwargs)\u001b[0m\n\u001b[1;32m    209\u001b[0m     \u001b[39melse\u001b[39;00m:\n\u001b[1;32m    210\u001b[0m         kwargs[new_arg_name] \u001b[39m=\u001b[39m new_arg_value\n\u001b[0;32m--> 211\u001b[0m \u001b[39mreturn\u001b[39;00m func(\u001b[39m*\u001b[39;49margs, \u001b[39m*\u001b[39;49m\u001b[39m*\u001b[39;49mkwargs)\n",
      "File \u001b[0;32m~/anaconda3/envs/JWSeo/lib/python3.9/site-packages/pandas/io/formats/format.py:1189\u001b[0m, in \u001b[0;36mDataFrameRenderer.to_csv\u001b[0;34m(self, path_or_buf, encoding, sep, columns, index_label, mode, compression, quoting, quotechar, lineterminator, chunksize, date_format, doublequote, escapechar, errors, storage_options)\u001b[0m\n\u001b[1;32m   1168\u001b[0m     created_buffer \u001b[39m=\u001b[39m \u001b[39mFalse\u001b[39;00m\n\u001b[1;32m   1170\u001b[0m csv_formatter \u001b[39m=\u001b[39m CSVFormatter(\n\u001b[1;32m   1171\u001b[0m     path_or_buf\u001b[39m=\u001b[39mpath_or_buf,\n\u001b[1;32m   1172\u001b[0m     lineterminator\u001b[39m=\u001b[39mlineterminator,\n\u001b[0;32m   (...)\u001b[0m\n\u001b[1;32m   1187\u001b[0m     formatter\u001b[39m=\u001b[39m\u001b[39mself\u001b[39m\u001b[39m.\u001b[39mfmt,\n\u001b[1;32m   1188\u001b[0m )\n\u001b[0;32m-> 1189\u001b[0m csv_formatter\u001b[39m.\u001b[39;49msave()\n\u001b[1;32m   1191\u001b[0m \u001b[39mif\u001b[39;00m created_buffer:\n\u001b[1;32m   1192\u001b[0m     \u001b[39massert\u001b[39;00m \u001b[39misinstance\u001b[39m(path_or_buf, StringIO)\n",
      "File \u001b[0;32m~/anaconda3/envs/JWSeo/lib/python3.9/site-packages/pandas/io/formats/csvs.py:241\u001b[0m, in \u001b[0;36mCSVFormatter.save\u001b[0;34m(self)\u001b[0m\n\u001b[1;32m    237\u001b[0m \u001b[39m\u001b[39m\u001b[39m\"\"\"\u001b[39;00m\n\u001b[1;32m    238\u001b[0m \u001b[39mCreate the writer & save.\u001b[39;00m\n\u001b[1;32m    239\u001b[0m \u001b[39m\"\"\"\u001b[39;00m\n\u001b[1;32m    240\u001b[0m \u001b[39m# apply compression and byte/text conversion\u001b[39;00m\n\u001b[0;32m--> 241\u001b[0m \u001b[39mwith\u001b[39;00m get_handle(\n\u001b[1;32m    242\u001b[0m     \u001b[39mself\u001b[39;49m\u001b[39m.\u001b[39;49mfilepath_or_buffer,\n\u001b[1;32m    243\u001b[0m     \u001b[39mself\u001b[39;49m\u001b[39m.\u001b[39;49mmode,\n\u001b[1;32m    244\u001b[0m     encoding\u001b[39m=\u001b[39;49m\u001b[39mself\u001b[39;49m\u001b[39m.\u001b[39;49mencoding,\n\u001b[1;32m    245\u001b[0m     errors\u001b[39m=\u001b[39;49m\u001b[39mself\u001b[39;49m\u001b[39m.\u001b[39;49merrors,\n\u001b[1;32m    246\u001b[0m     compression\u001b[39m=\u001b[39;49m\u001b[39mself\u001b[39;49m\u001b[39m.\u001b[39;49mcompression,\n\u001b[1;32m    247\u001b[0m     storage_options\u001b[39m=\u001b[39;49m\u001b[39mself\u001b[39;49m\u001b[39m.\u001b[39;49mstorage_options,\n\u001b[1;32m    248\u001b[0m ) \u001b[39mas\u001b[39;00m handles:\n\u001b[1;32m    249\u001b[0m \n\u001b[1;32m    250\u001b[0m     \u001b[39m# Note: self.encoding is irrelevant here\u001b[39;00m\n\u001b[1;32m    251\u001b[0m     \u001b[39mself\u001b[39m\u001b[39m.\u001b[39mwriter \u001b[39m=\u001b[39m csvlib\u001b[39m.\u001b[39mwriter(\n\u001b[1;32m    252\u001b[0m         handles\u001b[39m.\u001b[39mhandle,\n\u001b[1;32m    253\u001b[0m         lineterminator\u001b[39m=\u001b[39m\u001b[39mself\u001b[39m\u001b[39m.\u001b[39mlineterminator,\n\u001b[0;32m   (...)\u001b[0m\n\u001b[1;32m    258\u001b[0m         quotechar\u001b[39m=\u001b[39m\u001b[39mself\u001b[39m\u001b[39m.\u001b[39mquotechar,\n\u001b[1;32m    259\u001b[0m     )\n\u001b[1;32m    261\u001b[0m     \u001b[39mself\u001b[39m\u001b[39m.\u001b[39m_save()\n",
      "File \u001b[0;32m~/anaconda3/envs/JWSeo/lib/python3.9/site-packages/pandas/io/common.py:856\u001b[0m, in \u001b[0;36mget_handle\u001b[0;34m(path_or_buf, mode, encoding, compression, memory_map, is_text, errors, storage_options)\u001b[0m\n\u001b[1;32m    851\u001b[0m \u001b[39melif\u001b[39;00m \u001b[39misinstance\u001b[39m(handle, \u001b[39mstr\u001b[39m):\n\u001b[1;32m    852\u001b[0m     \u001b[39m# Check whether the filename is to be opened in binary mode.\u001b[39;00m\n\u001b[1;32m    853\u001b[0m     \u001b[39m# Binary mode does not support 'encoding' and 'newline'.\u001b[39;00m\n\u001b[1;32m    854\u001b[0m     \u001b[39mif\u001b[39;00m ioargs\u001b[39m.\u001b[39mencoding \u001b[39mand\u001b[39;00m \u001b[39m\"\u001b[39m\u001b[39mb\u001b[39m\u001b[39m\"\u001b[39m \u001b[39mnot\u001b[39;00m \u001b[39min\u001b[39;00m ioargs\u001b[39m.\u001b[39mmode:\n\u001b[1;32m    855\u001b[0m         \u001b[39m# Encoding\u001b[39;00m\n\u001b[0;32m--> 856\u001b[0m         handle \u001b[39m=\u001b[39m \u001b[39mopen\u001b[39;49m(\n\u001b[1;32m    857\u001b[0m             handle,\n\u001b[1;32m    858\u001b[0m             ioargs\u001b[39m.\u001b[39;49mmode,\n\u001b[1;32m    859\u001b[0m             encoding\u001b[39m=\u001b[39;49mioargs\u001b[39m.\u001b[39;49mencoding,\n\u001b[1;32m    860\u001b[0m             errors\u001b[39m=\u001b[39;49merrors,\n\u001b[1;32m    861\u001b[0m             newline\u001b[39m=\u001b[39;49m\u001b[39m\"\u001b[39;49m\u001b[39m\"\u001b[39;49m,\n\u001b[1;32m    862\u001b[0m         )\n\u001b[1;32m    863\u001b[0m     \u001b[39melse\u001b[39;00m:\n\u001b[1;32m    864\u001b[0m         \u001b[39m# Binary mode\u001b[39;00m\n\u001b[1;32m    865\u001b[0m         handle \u001b[39m=\u001b[39m \u001b[39mopen\u001b[39m(handle, ioargs\u001b[39m.\u001b[39mmode)\n",
      "File \u001b[0;32m~/anaconda3/envs/JWSeo/lib/python3.9/codecs.py:186\u001b[0m, in \u001b[0;36mIncrementalEncoder.__init__\u001b[0;34m(self, errors)\u001b[0m\n\u001b[1;32m    180\u001b[0m \u001b[39mclass\u001b[39;00m \u001b[39mIncrementalEncoder\u001b[39;00m(\u001b[39mobject\u001b[39m):\n\u001b[1;32m    181\u001b[0m \u001b[39m    \u001b[39m\u001b[39m\"\"\"\u001b[39;00m\n\u001b[1;32m    182\u001b[0m \u001b[39m    An IncrementalEncoder encodes an input in multiple steps. The input can\u001b[39;00m\n\u001b[1;32m    183\u001b[0m \u001b[39m    be passed piece by piece to the encode() method. The IncrementalEncoder\u001b[39;00m\n\u001b[1;32m    184\u001b[0m \u001b[39m    remembers the state of the encoding process between calls to encode().\u001b[39;00m\n\u001b[1;32m    185\u001b[0m \u001b[39m    \"\"\"\u001b[39;00m\n\u001b[0;32m--> 186\u001b[0m     \u001b[39mdef\u001b[39;00m \u001b[39m__init__\u001b[39m(\u001b[39mself\u001b[39m, errors\u001b[39m=\u001b[39m\u001b[39m'\u001b[39m\u001b[39mstrict\u001b[39m\u001b[39m'\u001b[39m):\n\u001b[1;32m    187\u001b[0m \u001b[39m        \u001b[39m\u001b[39m\"\"\"\u001b[39;00m\n\u001b[1;32m    188\u001b[0m \u001b[39m        Creates an IncrementalEncoder instance.\u001b[39;00m\n\u001b[1;32m    189\u001b[0m \n\u001b[0;32m   (...)\u001b[0m\n\u001b[1;32m    192\u001b[0m \u001b[39m        for a list of possible values.\u001b[39;00m\n\u001b[1;32m    193\u001b[0m \u001b[39m        \"\"\"\u001b[39;00m\n\u001b[1;32m    194\u001b[0m         \u001b[39mself\u001b[39m\u001b[39m.\u001b[39merrors \u001b[39m=\u001b[39m errors\n",
      "\u001b[0;31mKeyboardInterrupt\u001b[0m: "
     ]
    }
   ],
   "source": [
    "file_count=0\n",
    "negative_count=0\n",
    "pulse=3000\n",
    "waveform_binary_path='../../data/Mix_artifacts/binary/'\n",
    "train_binary_df=pd.DataFrame(columns=['FileName','PPG'])\n",
    "test_binary_df=pd.DataFrame(columns=['FileName','PPG'])\n",
    "waveform_mean_path='../../data/Mix_artifacts/ratio/'\n",
    "train_mean_df=pd.DataFrame(columns=['FileName','PPG'])\n",
    "test_mean_df=pd.DataFrame(columns=['FileName','PPG'])\n",
    "def csv_save(PPG,Type_1,Type_2,Type_3,Type_4,Type_5,waveform_path,data_set_class,count):\n",
    "    data = {'PPG Class':PPG,'PPG' : Type_1}\n",
    "    data_1=pd.DataFrame(data)\n",
    "    data_1.to_csv(waveform_path+data_set_class+'/Type_1_'+str(count)+'.csv',mode = 'w', index=False)\n",
    "    data = {'PPG Class':PPG,'PPG' : Type_2}\n",
    "    data_2=pd.DataFrame(data)\n",
    "    data_2.to_csv(waveform_path+data_set_class+'/Type_2_'+str(count)+'.csv',mode = 'w', index=False)\n",
    "    data = {'PPG Class':PPG,'PPG' : Type_3}\n",
    "    data_3=pd.DataFrame(data)\n",
    "    data_3.to_csv(waveform_path+data_set_class+'/Type_3_'+str(count)+'.csv',mode = 'w', index=False)\n",
    "    data = {'PPG Class':PPG,'PPG' : Type_4}\n",
    "    data_4=pd.DataFrame(data)\n",
    "    data_4.to_csv(waveform_path+data_set_class+'/Type_4_'+str(count)+'.csv',mode = 'w', index=False)\n",
    "    data = {'PPG Class':PPG,'PPG' : Type_5}\n",
    "    data_5=pd.DataFrame(data)\n",
    "    data_5.to_csv(waveform_path+data_set_class+'/Type_5_'+str(count)+'.csv',mode = 'w', index=False)\n",
    "    \n",
    "    \n",
    "for i in tqdm(range(len(csv_file_list))):\n",
    "    csv_data=pd.read_csv(csv_file_list[i])\n",
    "    count=len(csv_data)\n",
    "    a=np.random.randint(0, 10)\n",
    "    if a==0 or a==1:\n",
    "        data_set_class='test'\n",
    "    else: \n",
    "        data_set_class='train'\n",
    "    for j in range(count//(pulse-500)-1):\n",
    "        sec_data=csv_data[j*(pulse-500):j*(pulse-500)+pulse]\n",
    "        PPG=sec_data['PPG'].to_numpy()\n",
    "        PPG_mean=PPG.mean()\n",
    "        Type_1=sec_data['Type_1'].to_numpy()\n",
    "        Type_2=sec_data['Type_2'].to_numpy()\n",
    "        Type_3=sec_data['Type_3'].to_numpy()\n",
    "        Type_4=sec_data['Type_4'].to_numpy()\n",
    "        Type_5=sec_data['Type_5'].to_numpy()\n",
    "        file_name_list=[]\n",
    "        PPG_binary_list=[]\n",
    "        PPG_mean_list=[]\n",
    "        \n",
    "        for k in range(1,6):\n",
    "            file_name_list.append('Type_'+str(k)+'_'+str(count)+'.csv')\n",
    "            PPG_mean_list.append(PPG_mean)\n",
    "            if PPG_mean>0:\n",
    "                PPG_binary_list.append(1)\n",
    "            else: \n",
    "                PPG_binary_list.append(0)\n",
    "                \n",
    "        if data_set_class=='train':\n",
    "            csv_save(PPG,Type_1,Type_2,Type_3,Type_4,Type_5,waveform_binary_path,data_set_class,file_count)\n",
    "            csv_save(PPG,Type_1,Type_2,Type_3,Type_4,Type_5,waveform_mean_path,data_set_class,file_count)\n",
    "            binary_data={'FileName':file_name_list,'PPG':PPG_binary_list}\n",
    "            mean_data={'FileName':file_name_list,'PPG':PPG_mean_list}\n",
    "            PPG_binary_temp=pd.DataFrame(binary_data)\n",
    "            PPG_mean_temp=pd.DataFrame(mean_data)\n",
    "            train_binary_df = pd.concat([train_binary_df,PPG_binary_temp])\n",
    "            train_mean_df = pd.concat([train_mean_df,PPG_mean_temp])\n",
    "            file_count+=1\n",
    "            \n",
    "        if data_set_class=='test':\n",
    "            csv_save(PPG,Type_1,Type_2,Type_3,Type_4,Type_5,waveform_binary_path,data_set_class,file_count)\n",
    "            csv_save(PPG,Type_1,Type_2,Type_3,Type_4,Type_5,waveform_mean_path,data_set_class,file_count)\n",
    "            binary_data={'FileName':file_name_list,'PPG':PPG_binary_list}\n",
    "            mean_data={'FileName':file_name_list,'PPG':PPG_mean_list}\n",
    "            PPG_binary_temp=pd.DataFrame(binary_data)\n",
    "            PPG_mean_temp=pd.DataFrame(mean_data)\n",
    "            test_binary_df = pd.concat([test_binary_df,PPG_binary_temp])\n",
    "            test_mean_df = pd.concat([test_mean_df,PPG_mean_temp])\n",
    "            file_count+=1\n",
    "train_binary_df.to_csv(waveform_binary_path+'train.csv')\n",
    "test_binary_df.to_csv(waveform_binary_path+'test.csv')\n",
    "train_mean_df.to_csv(waveform_mean_path+'train.csv')\n",
    "test_mean_df.to_csv(waveform_mean_path+'test.csv')"
   ]
  },
  {
   "cell_type": "code",
   "execution_count": null,
   "metadata": {},
   "outputs": [],
   "source": [
    "{}"
   ]
  }
 ],
 "metadata": {
  "kernelspec": {
   "display_name": "LeeYS",
   "language": "python",
   "name": "python3"
  },
  "language_info": {
   "codemirror_mode": {
    "name": "ipython",
    "version": 3
   },
   "file_extension": ".py",
   "mimetype": "text/x-python",
   "name": "python",
   "nbconvert_exporter": "python",
   "pygments_lexer": "ipython3",
   "version": "3.9.0"
  }
 },
 "nbformat": 4,
 "nbformat_minor": 2
}
