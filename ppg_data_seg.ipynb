{
 "cells": [
  {
   "cell_type": "code",
   "execution_count": 65,
   "metadata": {},
   "outputs": [],
   "source": [
    "import pandas as pd\n",
    "from glob import glob\n",
    "import shutil\n",
    "import matplotlib.pyplot as plt\n",
    "import os"
   ]
  },
  {
   "cell_type": "code",
   "execution_count": 66,
   "metadata": {},
   "outputs": [],
   "source": [
    "pre_file_list=glob('../../data/row_collection/이영섭/*gil.csv')\n",
    "pre_move_file_list=[f.replace('/row_collection', '/pre_collection') for f in pre_file_list]\n",
    "for i in range(len(pre_move_file_list)):\n",
    "    shutil.move(pre_file_list[i],pre_move_file_list[i])"
   ]
  },
  {
   "cell_type": "code",
   "execution_count": 67,
   "metadata": {},
   "outputs": [],
   "source": [
    "test_file_list=[f.replace('/row_collection', '/test_collection') for f in pre_file_list]\n",
    "for i in range(len(pre_move_file_list)):\n",
    "    ppg_count=0\n",
    "    filename=os.path.splitext(os.path.basename(pre_move_file_list[i]))[0]\n",
    "    df=pd.read_csv(pre_move_file_list[i])\n",
    "    ppg=df['GREEN']\n",
    "    if len(ppg)>3000:\n",
    "        ppg_count=len(ppg)//3000\n",
    "    for j in range(ppg_count):\n",
    "        temp_ppg=ppg[j*3000:j*3000+3000]\n",
    "        temp_ppg=temp_ppg-temp_ppg.min()\n",
    "        temp_ppg=temp_ppg/temp_ppg.max()\n",
    "        temp_ppg=temp_ppg\n",
    "        temp_ppg.to_csv(os.path.dirname(test_file_list[0])+'/'+filename+'_'+str(j).zfill(4)+'.csv',index=False)"
   ]
  },
  {
   "cell_type": "code",
   "execution_count": 55,
   "metadata": {},
   "outputs": [
    {
     "data": {
      "text/plain": [
       "'../../data/test_collection/이창현'"
      ]
     },
     "execution_count": 55,
     "metadata": {},
     "output_type": "execute_result"
    }
   ],
   "source": []
  }
 ],
 "metadata": {
  "kernelspec": {
   "display_name": "LeeYS",
   "language": "python",
   "name": "python3"
  },
  "language_info": {
   "codemirror_mode": {
    "name": "ipython",
    "version": 3
   },
   "file_extension": ".py",
   "mimetype": "text/x-python",
   "name": "python",
   "nbconvert_exporter": "python",
   "pygments_lexer": "ipython3",
   "version": "3.9.0"
  }
 },
 "nbformat": 4,
 "nbformat_minor": 2
}
