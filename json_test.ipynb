{
 "cells": [
  {
   "cell_type": "code",
   "execution_count": 1,
   "metadata": {},
   "outputs": [],
   "source": [
    "import torch.nn as nn\n",
    "import torch\n",
    "import pandas as pd\n",
    "from torch.utils.data import Dataset, DataLoader\n",
    "import numpy as np\n",
    "from tqdm.auto import tqdm\n",
    "import torchmetrics\n",
    "from sklearn.metrics import roc_auc_score\n",
    "from sklearn.metrics import classification_report\n",
    "from sklearn.metrics import f1_score\n",
    "from copy import copy\n",
    "from sklearn.metrics import confusion_matrix\n",
    "import torch.nn.functional as F\n",
    "from tsai.all import GRU_FCN\n",
    "import os\n",
    "import argparse\n",
    "from urllib.parse import urlparse\n",
    "from io import StringIO\n",
    "\n",
    "\n",
    "device0 = torch.device(\"cpu\")\n",
    "\n",
    "\n",
    "class CustomDataset(Dataset):\n",
    "    def __init__(self, data, transform=None, target_transform=None):\n",
    "        self.PPG_data = data\n",
    "\n",
    "    def __len__(self):\n",
    "        return len(self.PPG_data)\n",
    "\n",
    "    def __getitem__(self, idx):\n",
    "\n",
    "        signal_tensor = self.PPG_data[idx]\n",
    "\n",
    "        return signal_tensor\n",
    "\n",
    "\n",
    "def test(model, dataloader):\n",
    "    validation_tqdm = tqdm(dataloader)\n",
    "    model.eval()\n",
    "    val_count = 0\n",
    "    predict_list = []\n",
    "    with torch.no_grad():\n",
    "        for x in validation_tqdm:\n",
    "            val_count += 1\n",
    "            x = x.to(device0).float()\n",
    "            predict = model(x).to(device0)\n",
    "            predict_list.append(F.sigmoid(predict).item())\n",
    "    return predict_list"
   ]
  },
  {
   "cell_type": "code",
   "execution_count": null,
   "metadata": {},
   "outputs": [],
   "source": []
  }
 ],
 "metadata": {
  "kernelspec": {
   "display_name": "LeeYS",
   "language": "python",
   "name": "python3"
  },
  "language_info": {
   "codemirror_mode": {
    "name": "ipython",
    "version": 3
   },
   "file_extension": ".py",
   "mimetype": "text/x-python",
   "name": "python",
   "nbconvert_exporter": "python",
   "pygments_lexer": "ipython3",
   "version": "3.9.0"
  }
 },
 "nbformat": 4,
 "nbformat_minor": 2
}
