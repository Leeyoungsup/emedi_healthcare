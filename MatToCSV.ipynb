{
 "cells": [
  {
   "cell_type": "code",
   "execution_count": 1,
   "metadata": {},
   "outputs": [],
   "source": [
    "import numpy as np\n",
    "import scipy\n",
    "import pandas as pd\n",
    "from glob import glob\n",
    "from PIL import Image\n",
    "import matplotlib.pyplot as plt"
   ]
  },
  {
   "cell_type": "code",
   "execution_count": 2,
   "metadata": {},
   "outputs": [],
   "source": [
    "mat_file_list= glob('../../data/AF/raw/*.mat')\n",
    "csv_file_list=[f.replace('.mat', '.csv') for f in mat_file_list]\n",
    "csv_file_list=[f.replace('/raw/', '/csv/') for f in csv_file_list]"
   ]
  },
  {
   "cell_type": "code",
   "execution_count": 3,
   "metadata": {},
   "outputs": [],
   "source": [
    "for i in range(len(mat_file_list)):\n",
    "    mat_file=scipy.io.loadmat(mat_file_list[i])\n",
    "    value_array=mat_file['signals'][0][0]\n",
    "    Type_1=value_array[5][0]\n",
    "    Type_2=value_array[5][1]\n",
    "    Type_3=value_array[5][2]\n",
    "    Type_4=value_array[5][3]\n",
    "    raw_PPG=value_array[1][0]\n",
    "    PPG=np.zeros([len(Type_1)],dtype=np.int8)\n",
    "    time=np.linspace(0,len(Type_1)/100,len(Type_1))\n",
    "    len(Type_1)/len(raw_PPG)*300\n",
    "    prev_index=0\n",
    "    for j in range(len(raw_PPG)):\n",
    "        next_index=int(len(Type_1)/len(raw_PPG)*(j+1))\n",
    "        PPG[prev_index:next_index+1]=raw_PPG[j]\n",
    "        prev_index=int(len(Type_1)/len(raw_PPG)*(j+1))+1\n",
    "    data = {'PPG':PPG,'Type_1' : Type_1,'Type_2' : Type_2,'Type_3' : Type_3,'Type_4' : Type_4}\n",
    "    data=pd.DataFrame(data)\n",
    "    data.to_csv(csv_file_list[i],mode = 'w', index=False)"
   ]
  },
  {
   "cell_type": "code",
   "execution_count": 4,
   "metadata": {},
   "outputs": [
    {
     "data": {
      "text/plain": [
       "801"
      ]
     },
     "execution_count": 4,
     "metadata": {},
     "output_type": "execute_result"
    }
   ],
   "source": []
  }
 ],
 "metadata": {
  "kernelspec": {
   "display_name": "LeeYS",
   "language": "python",
   "name": "python3"
  },
  "language_info": {
   "codemirror_mode": {
    "name": "ipython",
    "version": 3
   },
   "file_extension": ".py",
   "mimetype": "text/x-python",
   "name": "python",
   "nbconvert_exporter": "python",
   "pygments_lexer": "ipython3",
   "version": "3.9.0"
  },
  "orig_nbformat": 4
 },
 "nbformat": 4,
 "nbformat_minor": 2
}
