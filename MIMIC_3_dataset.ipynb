{
 "cells": [
  {
   "cell_type": "code",
   "execution_count": 31,
   "metadata": {},
   "outputs": [],
   "source": [
    "import pandas as pd\n",
    "import numpy\n",
    "import wfdb\n",
    "import matplotlib.pyplot as plt\n"
   ]
  },
  {
   "cell_type": "code",
   "execution_count": 37,
   "metadata": {},
   "outputs": [
    {
     "data": {
      "text/plain": [
       "{'record_name': 'mimic_perform_af_001',\n",
       " 'n_sig': 3,\n",
       " 'fs': 125,\n",
       " 'counter_freq': None,\n",
       " 'base_counter': None,\n",
       " 'sig_len': 150001,\n",
       " 'base_time': None,\n",
       " 'base_date': None,\n",
       " 'comments': ['<Original Subject ID>: p000946 <Original Recording ID>: p000946-2120-05-14-08-08 <Original File>: 3462211_0001 <subject group>:'],\n",
       " 'sig_name': ['PPG, Fingertip PPG recorded using bedside monitor',\n",
       "  'ECG, ECG recorded using bedside monitor, lead II',\n",
       "  'resp, Impedance pneumography respiratory signal recorded at the chest using bedside monitor'],\n",
       " 'p_signal': array([[ 0.53762713,  0.42577478, -0.02934254],\n",
       "        [ 0.53469494,  0.40431073, -0.03667817],\n",
       "        [ 0.53176274,  0.40037769, -0.04401381],\n",
       "        ...,\n",
       "        [ 0.40957343,  0.49413046, -0.17114317],\n",
       "        [ 0.41641522,  0.52928394, -0.17114317],\n",
       "        [ 0.42327159,  0.50586861, -0.17114317]]),\n",
       " 'd_signal': None,\n",
       " 'e_p_signal': None,\n",
       " 'e_d_signal': None,\n",
       " 'file_name': ['mimic_perform_af_001.dat',\n",
       "  'mimic_perform_af_001.dat',\n",
       "  'mimic_perform_af_001.dat'],\n",
       " 'fmt': ['16', '16', '16'],\n",
       " 'samps_per_frame': [1, 1, 1],\n",
       " 'skew': [None, None, None],\n",
       " 'byte_offset': [None, None, None],\n",
       " 'adc_gain': [68549.3681, 32799.0303, 46212.769],\n",
       " 'baseline': [-32767, -16432, -11638],\n",
       " 'units': ['NU', 'mV', 'pm'],\n",
       " 'adc_res': [0, 0, 0],\n",
       " 'adc_zero': [0, 0, 0],\n",
       " 'init_value': [4087, -2467, -12994],\n",
       " 'checksum': [-11465, 8510, 23795],\n",
       " 'block_size': [0, 0, 0]}"
      ]
     },
     "execution_count": 37,
     "metadata": {},
     "output_type": "execute_result"
    }
   ],
   "source": [
    "record_name = '../../data/MIMIC_III_AF_dataset/mimic_perform_af_wfdb/mimic_perform_af_wfdb_dat/mimic_perform_af_001'\n",
    "\n",
    "record = wfdb.rdrecord(record_name)\n",
    "\n",
    "record.__dict__\n"
   ]
  }
 ],
 "metadata": {
  "kernelspec": {
   "display_name": "LeeYS",
   "language": "python",
   "name": "python3"
  },
  "language_info": {
   "codemirror_mode": {
    "name": "ipython",
    "version": 3
   },
   "file_extension": ".py",
   "mimetype": "text/x-python",
   "name": "python",
   "nbconvert_exporter": "python",
   "pygments_lexer": "ipython3",
   "version": "3.9.0"
  }
 },
 "nbformat": 4,
 "nbformat_minor": 2
}
