{
 "cells": [
  {
   "cell_type": "code",
   "execution_count": null,
   "metadata": {},
   "outputs": [],
   "source": [
    "import os\n",
    "import torchvision.models as models \n",
    "import torch.nn as nn\n",
    "import torch\n",
    "import pandas as pd\n",
    "from torchvision.io import read_image\n",
    "import torch\n",
    "from torch.utils.data import Dataset, DataLoader, random_split\n",
    "from torchvision import datasets\n",
    "from torchvision.transforms import ToTensor\n",
    "import matplotlib.pyplot as plt\n",
    "import torchvision\n",
    "from glob import glob\n",
    "from torchinfo import summary\n",
    "import numpy as np\n",
    "import torch.functional as F\n",
    "import torchvision.transforms as T\n",
    "from tqdm.notebook import tqdm\n",
    "import torchmetrics\n",
    "device0 = torch.device(\"cuda:1\" if torch.cuda.is_available() else \"cpu\")\n",
    "Type_class='Type_2'\n",
    "batch_size=16"
   ]
  },
  {
   "cell_type": "markdown",
   "metadata": {},
   "source": [
    "fit generator dataload"
   ]
  },
  {
   "cell_type": "code",
   "execution_count": null,
   "metadata": {},
   "outputs": [],
   "source": [
    "class CustomGeneratorDataset(Dataset):\n",
    "    def __init__(self, data_path,Type_class ,transform=None, target_transform=None):\n",
    "        self.data_list=glob(data_path+Type_class+'/**/*.csv')\n",
    "        \n",
    "    def __len__(self):\n",
    "        return len(self.data_list)\n",
    "\n",
    "    def __getitem__(self, idx):\n",
    "        signal_csv=pd.read_csv(self.data_list[idx])['PPG'].to_numpy()\n",
    "        signal_tensor=torch.reshape(torch.tensor(signal_csv),(1,1000))\n",
    "        self.data_list[idx].find('positive')\n",
    "        AF_signal_label=0\n",
    "        if self.data_list[idx].find('positive')!=-1:\n",
    "            AF_signal_label=1\n",
    "        else:\n",
    "            AF_signal_label=0\n",
    "        AF_signal_label=torch.tensor([AF_signal_label])\n",
    "        return signal_tensor,AF_signal_label\n",
    "    \n",
    "train_csv_path ='../../data/AF/Waveform_30/train/'\n",
    "test_csv_path ='../../data/AF/Waveform_30/test/'\n",
    "train_dataset=CustomGeneratorDataset(train_csv_path,Type_class)\n",
    "test_dataset=CustomGeneratorDataset(test_csv_path ,Type_class)\n",
    "dataset_size = len(test_dataset)\n",
    "test_size = int(dataset_size * 0.5)\n",
    "validation_size = dataset_size-test_size\n",
    "validation_dataset, test_dataset = random_split(test_dataset, [validation_size, test_size])\n",
    "train_dataloader = DataLoader(train_dataset, batch_size=batch_size, shuffle=True, drop_last=True)\n",
    "validation_dataloader = DataLoader(validation_dataset, batch_size=batch_size, shuffle=True, drop_last=True)\n",
    "test_dataloader = DataLoader(test_dataset, batch_size=batch_size, shuffle=True, drop_last=True)"
   ]
  },
  {
   "cell_type": "markdown",
   "metadata": {},
   "source": [
    "fit dataload"
   ]
  },
  {
   "cell_type": "code",
   "execution_count": null,
   "metadata": {},
   "outputs": [],
   "source": [
    "#fit\n",
    "class CustomDataset(Dataset):\n",
    "    def __init__(self, data,label ,transform=None, target_transform=None):\n",
    "        self.PPG_data=data\n",
    "        self.PPG_label=label\n",
    "    def __len__(self):\n",
    "        return len(self.PPG_data)\n",
    "\n",
    "    def __getitem__(self, idx):\n",
    "        signal_tensor=self.PPG_data[idx]\n",
    "        AF_signal_label=self.PPG_label[idx]\n",
    "        return signal_tensor,AF_signal_label\n",
    "    \n",
    "train_csv_path ='../../data/AF/Waveform_30/train/'\n",
    "test_csv_path ='../../data/AF/Waveform_30/test/'\n",
    "\n",
    "train_data_list=glob(train_csv_path+Type_class+'/**/*.csv')\n",
    "test_data_list=glob(test_csv_path+Type_class+'/**/*.csv')\n",
    "train_data=torch.empty(len(train_data_list),1,3000)\n",
    "train_label=torch.empty(len(train_data_list),1)\n",
    "test_data=torch.empty(len(test_data_list),1,3000)\n",
    "test_label=torch.empty(len(test_data_list),1)\n",
    "for i in range(len(train_data_list)):\n",
    "    signal_csv=pd.read_csv(train_data_list[i])['PPG'].to_numpy()\n",
    "    train_data_list[i].find('positive')\n",
    "    AF_signal_label=0\n",
    "    if train_data_list[i].find('positive')!=-1:\n",
    "        AF_signal_label=1\n",
    "    else:\n",
    "        AF_signal_label=0\n",
    "    train_data[i]=torch.tensor(signal_csv)\n",
    "    train_label[i]=torch.tensor([AF_signal_label])\n",
    "    \n",
    "for i in range(len(test_data_list)):\n",
    "    signal_csv=pd.read_csv(test_data_list[i])['PPG'].to_numpy()\n",
    "    test_data_list[i].find('positive')\n",
    "    AF_signal_label=0\n",
    "    if test_data_list[i].find('positive')!=-1:\n",
    "        AF_signal_label=1\n",
    "    else:\n",
    "        AF_signal_label=0\n",
    "    test_data[i]=torch.tensor(signal_csv)\n",
    "    test_label[i]=torch.tensor([AF_signal_label])\n",
    "\n",
    "train_dataset=CustomDataset(train_data,train_label)\n",
    "test_dataset=CustomDataset(test_data ,test_label)\n",
    "dataset_size = len(test_dataset)\n",
    "test_size = int(dataset_size * 0.5)\n",
    "validation_size = dataset_size-test_size\n",
    "validation_dataset, test_dataset = random_split(test_dataset, [validation_size, test_size])\n",
    "train_dataloader = DataLoader(train_dataset, batch_size=batch_size, shuffle=True, drop_last=True)\n",
    "validation_dataloader = DataLoader(validation_dataset, batch_size=batch_size, shuffle=True, drop_last=True)\n",
    "test_dataloader = DataLoader(test_dataset, batch_size=batch_size, shuffle=True, drop_last=True)"
   ]
  },
  {
   "cell_type": "markdown",
   "metadata": {},
   "source": [
    "model"
   ]
  },
  {
   "cell_type": "code",
   "execution_count": null,
   "metadata": {},
   "outputs": [],
   "source": [
    "from sympy import flatten\n",
    "\n",
    "\n",
    "class CNN1D(nn.Module):\n",
    "    def __init__(self):\n",
    "        super(CNN1D,self).__init__()\n",
    "        self.layer1 = torch.nn.Sequential(\n",
    "        torch.nn.Conv1d(in_channels=1, out_channels=32, kernel_size=3),\n",
    "        torch.nn.MaxPool1d(kernel_size=2,stride=2),\n",
    "        torch.nn.Conv1d(in_channels=32, out_channels=64, kernel_size=3),\n",
    "        torch.nn.MaxPool1d(kernel_size=2,stride=2) \n",
    "        ,\n",
    "        torch.nn.Conv1d(in_channels=64, out_channels=128, kernel_size=3),\n",
    "        torch.nn.MaxPool1d(kernel_size=2,stride=2) \n",
    "        )\n",
    "        self.lstm1=nn.LSTM(input_size=373, hidden_size=128,bidirectional=True,bias = True, \n",
    "                            batch_first = True, num_layers=64)\n",
    "        self.layer2=torch.nn.Sequential(torch.nn.Conv1d(in_channels=128, out_channels=64, kernel_size=3),\n",
    "                                        torch.nn.MaxPool1d(kernel_size=2,stride=2))\n",
    "        self.lstm2=nn.LSTM(input_size=63, hidden_size=1,bidirectional=True,bias = True, \n",
    "                            batch_first = True, num_layers=32)\n",
    "        \n",
    "        self.layer3=torch.nn.Sequential(nn.Linear(in_features = 64, out_features = 256),\n",
    "                                        nn.LeakyReLU(),\n",
    "                                        nn.Dropout1d(0.5),\n",
    "                                        nn.Linear(in_features = 256, out_features = 128),\n",
    "                                        nn.LeakyReLU(),\n",
    "                                        nn.Dropout1d(0.5),\n",
    "                                        nn.Linear(in_features = 128, out_features = 1))\n",
    "    def forward(self,x):\n",
    "        x=self.layer1(x)\n",
    "        self.lstm2.flatten_parameters()\n",
    "        _, (x, _) = self.lstm1(x)\n",
    "        x=x.transpose(1,0)\n",
    "        x=self.layer2(x)\n",
    "        \n",
    "        # Shape : (B, S, H) // H = hidden_size => (B, 10, 50)\n",
    "        self.lstm2.flatten_parameters()\n",
    "        # Shape : (B, S, H) // H = hidden_size => (B, 10, 50)\n",
    "        _, (x, _) = self.lstm2(x)\n",
    "        x=x.transpose(1,0)\n",
    "        x=x.squeeze(dim=2) \n",
    "        x=self.layer3(x)\n",
    "        \n",
    "        \n",
    "        return x\n",
    "\n",
    "\n",
    "    \n",
    "accuracy = torchmetrics.Accuracy(task=\"binary\", num_classes=1).to(device0)\n",
    "model = CNN1D().to(device0)\n",
    "criterion = nn.BCEWithLogitsLoss().to(device0)\n",
    "optimizer = torch.optim.Adam(model.parameters(), lr=2e-3)\n",
    "summary(model,(batch_size,1,3000))"
   ]
  },
  {
   "cell_type": "markdown",
   "metadata": {},
   "source": [
    "Train"
   ]
  },
  {
   "cell_type": "code",
   "execution_count": 6,
   "metadata": {},
   "outputs": [
    {
     "data": {
      "application/vnd.jupyter.widget-view+json": {
       "model_id": "8da807b9dc91445aaf832d7dfbbe37c5",
       "version_major": 2,
       "version_minor": 0
      },
      "text/plain": [
       "  0%|          | 0/30 [00:00<?, ?it/s]"
      ]
     },
     "metadata": {},
     "output_type": "display_data"
    },
    {
     "data": {
      "application/vnd.jupyter.widget-view+json": {
       "model_id": "2be79278216e450fab60c3fea29dc85f",
       "version_major": 2,
       "version_minor": 0
      },
      "text/plain": [
       "  0%|          | 0/242 [00:00<?, ?it/s]"
      ]
     },
     "metadata": {},
     "output_type": "display_data"
    },
    {
     "data": {
      "application/vnd.jupyter.widget-view+json": {
       "model_id": "7008cbef4c6b4dd58ea995e8d4149e06",
       "version_major": 2,
       "version_minor": 0
      },
      "text/plain": [
       "  0%|          | 0/30 [00:00<?, ?it/s]"
      ]
     },
     "metadata": {},
     "output_type": "display_data"
    },
    {
     "data": {
      "application/vnd.jupyter.widget-view+json": {
       "model_id": "80998afdd1c04d378b5a1cf87bbecab5",
       "version_major": 2,
       "version_minor": 0
      },
      "text/plain": [
       "  0%|          | 0/242 [00:00<?, ?it/s]"
      ]
     },
     "metadata": {},
     "output_type": "display_data"
    },
    {
     "data": {
      "application/vnd.jupyter.widget-view+json": {
       "model_id": "673b767534184d2a865eb08fc6578281",
       "version_major": 2,
       "version_minor": 0
      },
      "text/plain": [
       "  0%|          | 0/30 [00:00<?, ?it/s]"
      ]
     },
     "metadata": {},
     "output_type": "display_data"
    },
    {
     "data": {
      "application/vnd.jupyter.widget-view+json": {
       "model_id": "92b4edca96314dd8b5969b01965fdeb2",
       "version_major": 2,
       "version_minor": 0
      },
      "text/plain": [
       "  0%|          | 0/242 [00:00<?, ?it/s]"
      ]
     },
     "metadata": {},
     "output_type": "display_data"
    },
    {
     "data": {
      "application/vnd.jupyter.widget-view+json": {
       "model_id": "0a68a3d889ca48feab69b9ac9756f258",
       "version_major": 2,
       "version_minor": 0
      },
      "text/plain": [
       "  0%|          | 0/30 [00:00<?, ?it/s]"
      ]
     },
     "metadata": {},
     "output_type": "display_data"
    },
    {
     "data": {
      "application/vnd.jupyter.widget-view+json": {
       "model_id": "a573ade0dfc848a7aef36d8f0d39fe58",
       "version_major": 2,
       "version_minor": 0
      },
      "text/plain": [
       "  0%|          | 0/242 [00:00<?, ?it/s]"
      ]
     },
     "metadata": {},
     "output_type": "display_data"
    }
   ],
   "source": [
    "MIN_loss=5000\n",
    "train_loss_list=[]\n",
    "val_loss_list=[]\n",
    "train_acc_list=[]\n",
    "val_acc_list=[]\n",
    "for epoch in range(10000):\n",
    "    train=tqdm(train_dataloader)\n",
    "    count=0\n",
    "    running_loss = 0.0\n",
    "    acc_loss=0\n",
    "    for x, y in train:\n",
    "        model.train()\n",
    "        y = y.to(device0).float()\n",
    "        count+=1\n",
    "        x=x.to(device0).float()\n",
    "        optimizer.zero_grad()  # optimizer zero 로 초기화\n",
    "        predict = model(x).to(device0)\n",
    "        cost = criterion(predict, y) # cost 구함\n",
    "        acc=accuracy(predict, y)\n",
    "        cost.backward() # cost에 대한 backward 구함\n",
    "        optimizer.step() \n",
    "        running_loss += cost.item()\n",
    "        acc_loss+=acc\n",
    "        train.set_description(f\"epoch: {epoch+1}/{10000} Step: {count+1} loss : {running_loss/count:.4f} accuracy: {acc_loss/count:.4f}\")\n",
    "    train_loss_list.append((running_loss/count))\n",
    "    train_acc_list.append((acc_loss/count).cpu().detach().numpy())\n",
    "#validation\n",
    "    val=tqdm(validation_dataloader)\n",
    "    model.eval()\n",
    "    count=0\n",
    "    val_running_loss=0.0\n",
    "    acc_loss=0\n",
    "    with torch.no_grad():\n",
    "        for x, y in val:\n",
    "            y = y.to(device0).float()\n",
    "            count+=1\n",
    "            x=x.to(device0).float()\n",
    "            \n",
    "            predict = model(x).to(device0)\n",
    "            acc=accuracy(predict, y)\n",
    "            cost = criterion(predict, y)\n",
    "            val_running_loss+=cost.item()\n",
    "            acc_loss+=acc\n",
    "            val.set_description(f\"Validation epoch: {epoch+1}/{10000} Step: {count+1} loss : {val_running_loss/count:.4f}  accuracy: {acc_loss/count:.4f}\")\n",
    "        val_loss_list.append((val_running_loss/count))\n",
    "        val_acc_list.append((acc_loss/count).cpu().detach().numpy())\n",
    "    if epoch%10==1:\n",
    "        plt.figure(figsize=(10,5))\n",
    "        plt.subplot(1, 2, 1) \n",
    "        plt.title('loss_graph')\n",
    "        plt.plot(np.arange(epoch+1),train_loss_list,label='train_loss')\n",
    "        plt.plot(np.arange(epoch+1),val_loss_list,label='validation_loss')\n",
    "        plt.xlabel('epoch')\n",
    "        plt.ylabel('loss')\n",
    "        plt.legend()\n",
    "        plt.subplot(1, 2, 2)  \n",
    "        plt.title('acc_graph')\n",
    "        plt.plot(np.arange(epoch+1),train_acc_list,label='train_acc')\n",
    "        plt.plot(np.arange(epoch+1),val_acc_list,label='validation_acc')\n",
    "        plt.xlabel('epoch')\n",
    "        plt.ylabel('accuracy')\n",
    "        plt.legend()\n",
    "        plt.show()\n",
    "        \n",
    "    if MIN_loss<(val_running_loss/count):\n",
    "        torch.save(model.state_dict(), '../../model/Waveform/'+Type_class+'/BiLSTM_CNN_1D_Type2_call_back.pt')\n",
    "        MIN_loss=(val_running_loss/count)"
   ]
  }
 ],
 "metadata": {
  "kernelspec": {
   "display_name": "LeeYS",
   "language": "python",
   "name": "python3"
  },
  "language_info": {
   "codemirror_mode": {
    "name": "ipython",
    "version": 3
   },
   "file_extension": ".py",
   "mimetype": "text/x-python",
   "name": "python",
   "nbconvert_exporter": "python",
   "pygments_lexer": "ipython3",
   "version": "3.9.0"
  },
  "orig_nbformat": 4
 },
 "nbformat": 4,
 "nbformat_minor": 2
}
